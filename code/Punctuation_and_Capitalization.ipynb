{
 "cells": [
  {
   "cell_type": "markdown",
   "metadata": {
    "colab_type": "text",
    "id": "daYw_Xll2ZR9"
   },
   "source": [
    "# Task Description\n",
    "Automatic Speech Recognition (ASR) systems typically generate text with no punctuation and capitalization of the words. \n",
    "This tutorial explains how to implement a model in NeMo that will predict punctuation and capitalization for each word in a sentence to make ASR output more readable and to boost performance of the named entity recognition, machine translation or text-to-speech models. \n",
    "We'll show how to train a model for this task using a pre-trained BERT model. \n",
    "For every word in our training dataset we’re going to predict:\n",
    "\n",
    "- punctuation mark that should follow the word and\n",
    "- whether the word should be capitalized"
   ]
  },
  {
   "cell_type": "markdown",
   "metadata": {
    "colab_type": "text",
    "id": "ZnuziSwJ1yEB"
   },
   "source": [
    "# Dataset\n",
    "This model can work with any dataset as long as it follows the format specified below. \n",
    "The training and evaluation data is divided into *2 files: text.txt and labels.txt*. \n",
    "Each line of the **text.txt** file contains text sequences, where words are separated with spaces: [WORD] [SPACE] [WORD] [SPACE] [WORD], for example:"
   ]
  },
  {
   "cell_type": "markdown",
   "metadata": {
    "colab_type": "text",
    "id": "TXFORGBv2Jqu"
   },
   "source": [
    "\n",
    "\n",
    "```\n",
    "when is the next flight to new york\n",
    "the next flight is ...\n",
    "...\n",
    "```\n",
    "\n"
   ]
  },
  {
   "cell_type": "markdown",
   "metadata": {
    "colab_type": "text",
    "id": "Y7ci55rM2QH8"
   },
   "source": [
    "The **labels.txt** file contains corresponding labels for each word in text.txt, the labels are separated with spaces. Each label in labels.txt file consists of 2 symbols:\n",
    "\n",
    "- the first symbol of the label indicates what punctuation mark should follow the word (where O means no punctuation needed);\n",
    "- the second symbol determines if a word needs to be capitalized or not (where U indicates that the word should be upper cased, and O - no capitalization needed.)\n",
    "\n",
    "In this tutorial, we are considering only commas, periods, and question marks the rest punctuation marks were removed. To use more punctuation marks, update the dataset to include desired labels, no changes to the model needed. \n",
    "\n",
    "Each line of the **labels.txt** should follow the format: \n",
    "[LABEL] [SPACE] [LABEL] [SPACE] [LABEL] (for labels.txt). \n",
    "For example, labels for the above text.txt file should be:"
   ]
  },
  {
   "cell_type": "markdown",
   "metadata": {
    "colab_type": "text",
    "id": "-94C1-864EW1"
   },
   "source": [
    "\n",
    "\n",
    "```\n",
    "OU OO OO OO OO OO OU ?U\n",
    "OU OO OO OO ...\n",
    "...\n",
    "```\n",
    "\n"
   ]
  },
  {
   "cell_type": "markdown",
   "metadata": {
    "colab_type": "text",
    "id": "VsEmwIPO4L4V"
   },
   "source": [
    "The complete list of all possible labels for this task used in this tutorial is: `OO, ,O, .O, ?O, OU, ,U, .U, ?U.`"
   ]
  },
  {
   "cell_type": "markdown",
   "metadata": {
    "colab_type": "text",
    "id": "SL58EWkd2ZVb"
   },
   "source": [
    "## Download and preprocess the data¶"
   ]
  },
  {
   "cell_type": "markdown",
   "metadata": {
    "colab_type": "text",
    "id": "THi6s1Qx2G1k"
   },
   "source": [
    "In this notebook we are going to use a subset of English examples from the [Tatoeba collection of sentences](https://tatoeba.org/eng) this script will download and preprocess the Tatoeba data [NeMo/examples/nlp/token_classification/get_tatoeba_data.py](https://github.com/NVIDIA/NeMo/blob/stable/examples/nlp/token_classification/data/get_tatoeba_data.py). Note, for further experiments with the model, set NUM_SAMPLES=-1 and consider including other datasets to improve model performance. \n"
   ]
  },
  {
   "cell_type": "code",
   "execution_count": 4,
   "metadata": {
    "colab": {},
    "colab_type": "code",
    "id": "dzqD2WDFOIN-"
   },
   "outputs": [
    {
     "name": "stdout",
     "output_type": "stream",
     "text": [
      "NOTE! Installing ujson may make loading annotations faster.\n"
     ]
    }
   ],
   "source": [
    "from nemo.utils.exp_manager import exp_manager\n",
    "from nemo.collections import nlp as nemo_nlp\n",
    "\n",
    "import os\n",
    "import wget \n",
    "import torch\n",
    "import pytorch_lightning as pl\n",
    "from omegaconf import OmegaConf"
   ]
  },
  {
   "cell_type": "code",
   "execution_count": 2,
   "metadata": {},
   "outputs": [],
   "source": [
    "# Any files we download will be from the main branch of the repository\n",
    "BRANCH = 'main'"
   ]
  },
  {
   "cell_type": "code",
   "execution_count": 5,
   "metadata": {
    "colab": {},
    "colab_type": "code",
    "id": "n8HZrDmr12_-"
   },
   "outputs": [],
   "source": [
    "DATA_DIR = '../data'\n",
    "WORK_DIR = '.'\n",
    "MODEL_CONFIG = \"punctuation_capitalization_config.yaml\"\n",
    "\n",
    "# model parameters\n",
    "TOKENS_IN_BATCH = 1024\n",
    "MAX_SEQ_LENGTH = 64\n",
    "LEARNING_RATE = 0.00002\n",
    "NUM_SAMPLES = 10000"
   ]
  },
  {
   "cell_type": "code",
   "execution_count": 6,
   "metadata": {
    "colab": {},
    "colab_type": "code",
    "id": "UOeeeCGqI-9c"
   },
   "outputs": [
    {
     "name": "stdout",
     "output_type": "stream",
     "text": [
      "Downloading get_tatoeba_data.py...\n"
     ]
    }
   ],
   "source": [
    "## download get_tatoeba_data.py script to download and preprocess the Tatoeba data\n",
    "os.makedirs(WORK_DIR, exist_ok=True)\n",
    "if not os.path.exists(f\"{WORK_DIR}/get_tatoeba_data.py\"):\n",
    "    print('Downloading get_tatoeba_data.py...')\n",
    "    wget.download(f'https://raw.githubusercontent.com/NVIDIA/NeMo/{BRANCH}/examples/nlp/token_classification/data/get_tatoeba_data.py', WORK_DIR)\n",
    "else:\n",
    "    print ('get_tatoeba_data.py already exists')"
   ]
  },
  {
   "cell_type": "code",
   "execution_count": 7,
   "metadata": {
    "colab": {},
    "colab_type": "code",
    "id": "H0ulD2TL13DR"
   },
   "outputs": [
    {
     "name": "stdout",
     "output_type": "stream",
     "text": [
      "NOTE! Installing ujson may make loading annotations faster.\n",
      "[NeMo I 2023-10-04 22:15:35 get_tatoeba_data:152] Downloading tatoeba dataset\n",
      "[NeMo I 2023-10-04 22:15:35 get_tatoeba_data:38] Downloading https://downloads.tatoeba.org/exports/sentences.csv to ../data/sentences.csv\n",
      "--2023-10-04 22:15:35--  https://downloads.tatoeba.org/exports/sentences.csv\n",
      "Resolving downloads.tatoeba.org (downloads.tatoeba.org)... 94.130.77.194\n",
      "Connecting to downloads.tatoeba.org (downloads.tatoeba.org)|94.130.77.194|:443... connected.\n",
      "HTTP request sent, awaiting response... 200 OK\n",
      "Length: 641348822 (612M) [application/octet-stream]\n",
      "Saving to: ‘../data/sentences.csv’\n",
      "\n",
      "../data/sentences.c 100%[===================>] 611.64M  25.0MB/s    in 24s     \n",
      "\n",
      "2023-10-04 22:15:59 (25.2 MB/s) - ‘../data/sentences.csv’ saved [641348822/641348822]\n",
      "\n",
      "[NeMo I 2023-10-04 22:15:59 get_tatoeba_data:156] Processing English sentences...\n",
      "[NeMo I 2023-10-04 22:16:00 get_tatoeba_data:165] Splitting the tatoeba dataset into train and dev sets and creating labels and text files\n",
      "[NeMo I 2023-10-04 22:16:00 get_tatoeba_data:170] Creating text and label files for training\n",
      "../data/text_train.txt and ../data/labels_train.txt created from ../data/train.txt.\n",
      "../data/text_dev.txt and ../data/labels_dev.txt created from ../data/dev.txt.\n",
      "[NeMo I 2023-10-04 22:16:00 get_tatoeba_data:175] Cleaning up ../data\n",
      "[NeMo I 2023-10-04 22:16:00 get_tatoeba_data:180] Processing of the tatoeba is complete\n"
     ]
    }
   ],
   "source": [
    "# download and preprocess the data\n",
    "# --clean_dir flag deletes raw Tataoeba data, remove the flag to avoid multiple data downloads if you want to experiment with the dataset size\n",
    "! python $WORK_DIR/get_tatoeba_data.py --data_dir $DATA_DIR --num_sample $NUM_SAMPLES --clean_dir"
   ]
  },
  {
   "cell_type": "markdown",
   "metadata": {
    "colab_type": "text",
    "id": "pctMm2vsPlPT"
   },
   "source": [
    "after execution of the above cell, your data folder will contain the following 4 files needed for training (raw Tatoeba data could be present if `--clean_dir` was not used):\n",
    "- labels_dev.txt\n",
    "- labels_train.txt\n",
    "- text_dev.txt\n",
    "- text_train.txt\n"
   ]
  },
  {
   "cell_type": "code",
   "execution_count": 8,
   "metadata": {
    "colab": {},
    "colab_type": "code",
    "id": "KKwxXXezPvXF"
   },
   "outputs": [
    {
     "name": "stdout",
     "output_type": "stream",
     "text": [
      "total 652\n",
      "-rw-r--r-- 1 root root  46959 Oct  4 22:16 labels_dev.txt\n",
      "-rw-r--r-- 1 root root 193626 Oct  4 22:16 labels_train.txt\n",
      "drwxr-xr-x 2 root root   4096 Sep 26 20:35 scratch\n",
      "-rw-r--r-- 1 root root  80527 Oct  4 22:16 text_dev.txt\n",
      "-rw-r--r-- 1 root root 332130 Oct  4 22:16 text_train.txt\n"
     ]
    }
   ],
   "source": [
    "! ls -l $DATA_DIR"
   ]
  },
  {
   "cell_type": "code",
   "execution_count": 9,
   "metadata": {
    "colab": {},
    "colab_type": "code",
    "id": "6UDPgadLN6SG"
   },
   "outputs": [
    {
     "name": "stdout",
     "output_type": "stream",
     "text": [
      "Text:\n",
      "let's try something\n",
      "i have to go to sleep\n",
      "i will be back soon\n",
      "i'm at a loss for words\n",
      "this is never going to end\n",
      "\n",
      "Labels:\n",
      "OU OO .O\n",
      "OU OO OO OO OO .O\n",
      "OU OO OO OO .O\n",
      "OU OO OO OO OO .O\n",
      "OU OO OO OO OO .O\n"
     ]
    }
   ],
   "source": [
    "# let's take a look at the data \n",
    "print('Text:')\n",
    "! head -n 5 $DATA_DIR/text_train.txt\n",
    "\n",
    "print('\\nLabels:')\n",
    "! head -n 5 $DATA_DIR/labels_train.txt"
   ]
  },
  {
   "cell_type": "markdown",
   "metadata": {},
   "source": [
    "As you see, `get_tatoeba_data.py` script provides not only downloads Tatoeba but also creates labels. If you wish to preprocess your own data, use [examples/nlp/token_classification/data/prepare_data_for_punctuation_capitalization.py](https://github.com/NVIDIA/NeMo/blob/main/examples/nlp/token_classification/data/prepare_data_for_punctuation_capitalization.py) script:\n",
    "\n",
    "```\n",
    "NEMO_ROOT = \"<Path_to_NeMo>\"\n",
    "!python $NEMO_ROOT/examples/nlp/token_classification/data/prepare_data_for_punctuation_capitalization.py \\\n",
    "    --source_file $DATA_DIR/text_train.txt \\\n",
    "    --output_dir $DATA_DIR/my_train_preprocessed\n",
    "```"
   ]
  },
  {
   "cell_type": "code",
   "execution_count": 10,
   "metadata": {},
   "outputs": [],
   "source": [
    "# Replace \"my_train_processed\" with your own preprocessed dataset\n",
    "\n",
    "# !ls $DATA_DIR/my_train_preprocessed -l"
   ]
  },
  {
   "cell_type": "markdown",
   "metadata": {},
   "source": [
    "# Tarred dataset\n",
    "\n",
    "If your dataset is too large to be stored in memory, you can use tarred dataset. A tarred dataset is a collection of tarred files which contain batches ready for passing into a model.\n",
    "\n",
    "All tar files will contain identical number of batches, so if number of batches in the dataset is not evenly divisible by parameter `--num_batches_per_tar_file` value, then up to `--num_batches_per_tar_file - 1` batches may be lost."
   ]
  },
  {
   "cell_type": "code",
   "execution_count": 11,
   "metadata": {},
   "outputs": [
    {
     "name": "stdout",
     "output_type": "stream",
     "text": [
      "8000 ../data/text_train.txt\n",
      "8000 ../data/labels_train.txt\n"
     ]
    }
   ],
   "source": [
    "# Number of lines in text and labels files\n",
    "!wc -l $DATA_DIR/text_train.txt\n",
    "!wc -l $DATA_DIR/labels_train.txt"
   ]
  },
  {
   "cell_type": "code",
   "execution_count": 12,
   "metadata": {},
   "outputs": [
    {
     "name": "stdout",
     "output_type": "stream",
     "text": [
      "Downloading create_punctuation_capitalization_tarred_dataset.py...\n",
      "NOTE! Installing ujson may make loading annotations faster.\n",
      "[NeMo I 2023-10-04 22:16:14 punctuation_capitalization_tarred_dataset:113] Counting lines in files ../data/text_train.txt and ../data/labels_train.txt and creating segment borders. This may take considerable time. 86GB, 1.27b lines file was processed in 7 minutes.\n",
      "NOTE! Installing ujson may make loading annotations faster.\n",
      "NOTE! Installing ujson may make loading annotations faster.\n",
      "Creating label dictionary: 100%|████████| 8.00k/8.00k [00:00<00:00, 78.5kline/s]\n",
      "Tokenization:   0%|                             | 0.00/8.00k [00:00<?, ?query/s]\n",
      "[NeMo I 2023-10-04 22:16:27 tokenizer_utils:130] Getting HuggingFace AutoTokenizer with pretrained_model_name: bert-base-uncased, vocab_file: None, merges_files: None, special_tokens_dict: {}, and use_fast: False\n",
      "Batch mark up:   0%|                            | 0.00/8.00k [00:00<?, ?query/s]\u001b[A\n",
      "\n",
      "Batch building:   0%|                           | 0.00/8.00k [00:00<?, ?query/s]\u001b[A\u001b[A\n",
      "\n",
      "\n",
      "Writing tarred dataset:   0%|                   | 0.00/8.00k [00:00<?, ?query/s]\u001b[A\u001b[A\u001b[A[NeMo I 2023-10-04 22:16:27 tokenizer_utils:130] Getting HuggingFace AutoTokenizer with pretrained_model_name: bert-base-uncased, vocab_file: None, merges_files: None, special_tokens_dict: {}, and use_fast: False\n",
      "Downloading (…)okenizer_config.json: 100%|████| 28.0/28.0 [00:00<00:00, 240kB/s]\n",
      "Downloading (…)lve/main/config.json: 100%|█████| 570/570 [00:00<00:00, 6.39MB/s]\n",
      "Downloading (…)solve/main/vocab.txt: 100%|███| 232k/232k [00:00<00:00, 1.33MB/s]\n",
      "Using eos_token, but it is not set yet.\n",
      "Using bos_token, but it is not set yet.\n",
      "Using eos_token, but it is not set yet.\n",
      "Using bos_token, but it is not set yet.\n",
      "Tokenization: 100%|████████████████████| 8.00k/8.00k [00:03<00:00, 2.27kquery/s]\n",
      "\n",
      "Batch mark up: 100%|███████████████████| 8.00k/8.00k [00:03<00:00, 2.21kquery/s]\u001b[A\n",
      "\n",
      "\n",
      "Batch building:  50%|█████████         | 4.00k/8.00k [00:03<00:03, 1.10kquery/s]\u001b[A\u001b[A\n",
      "\n",
      "\n",
      "Writing tarred dataset:  50%|█████     | 4.00k/8.00k [00:03<00:03, 1.10kquery/s]\u001b[A\u001b[A\u001b[A\n",
      "\n",
      "Batch building: 100%|██████████████████| 8.00k/8.00k [00:03<00:00, 2.15kquery/s]\u001b[A\u001b[A\n",
      "\n",
      "\n",
      "\n",
      "Writing tarred dataset: 100%|██████████| 8.00k/8.00k [00:03<00:00, 2.15kquery/s]\u001b[A\u001b[A\u001b[A\n",
      "[NeMo I 2023-10-04 22:16:31 punctuation_capitalization_tarred_dataset:593] Found 2 files for repacking.\n",
      "[NeMo I 2023-10-04 22:16:31 punctuation_capitalization_tarred_dataset:657] Repacked 5 batches from short tar files\n",
      "[NeMo I 2023-10-04 22:16:31 punctuation_capitalization_tarred_dataset:682] 115 batches are in tarred dataset with metadata file ../data/train_tarred/metadata.punctuation_capitalization.tokens1024.max_seq_length512.bert-base-uncased.json\n"
     ]
    }
   ],
   "source": [
    "## download script to prepare tarred dataset\n",
    "os.makedirs(WORK_DIR, exist_ok=True)\n",
    "if not os.path.exists(f\"{WORK_DIR}/create_punctuation_capitalization_tarred_dataset.py\"):\n",
    "    print('Downloading create_punctuation_capitalization_tarred_dataset.py...')\n",
    "    wget.download(f'https://raw.githubusercontent.com/NVIDIA/NeMo/{BRANCH}/examples/nlp/token_classification/data/create_punctuation_capitalization_tarred_dataset.py', WORK_DIR)\n",
    "else:\n",
    "    print (\"create_punctuation_capitalization_tarred_dataset.py script already exists\")\n",
    "\n",
    "!python $WORK_DIR/create_punctuation_capitalization_tarred_dataset.py \\\n",
    "    --text $DATA_DIR/text_train.txt \\\n",
    "    --labels $DATA_DIR/labels_train.txt \\\n",
    "    --output_dir $DATA_DIR/train_tarred \\\n",
    "    --num_batches_per_tarfile 5 \\\n",
    "    --tokens_in_batch 1024 \\\n",
    "    --lines_per_dataset_fragment 4000 \\\n",
    "    --tokenizer_name bert-base-uncased \\\n",
    "    --n_jobs 2"
   ]
  },
  {
   "cell_type": "code",
   "execution_count": 13,
   "metadata": {},
   "outputs": [
    {
     "name": "stdout",
     "output_type": "stream",
     "text": [
      "total 2756\n",
      "-rw-r--r-- 1 root root      3 Oct  4 22:16 capit_label_vocab.csv\n",
      "-rw-r--r-- 1 root root   2372 Oct  4 22:16 metadata.punctuation_capitalization.tokens1024.max_seq_length512.bert-base-uncased.json\n",
      "-rw-r--r-- 1 root root      7 Oct  4 22:16 punct_label_vocab.csv\n",
      "-rw-r--r-- 1 root root 122880 Oct  4 22:16 punctuation_capitalization.tokens1024.max_seq_length512.bert-base-uncased.batches5.0.tar\n",
      "-rw-r--r-- 1 root root 122880 Oct  4 22:16 punctuation_capitalization.tokens1024.max_seq_length512.bert-base-uncased.batches5.1.tar\n",
      "-rw-r--r-- 1 root root 112640 Oct  4 22:16 punctuation_capitalization.tokens1024.max_seq_length512.bert-base-uncased.batches5.10.tar\n",
      "-rw-r--r-- 1 root root 122880 Oct  4 22:16 punctuation_capitalization.tokens1024.max_seq_length512.bert-base-uncased.batches5.11.tar\n",
      "-rw-r--r-- 1 root root 122880 Oct  4 22:16 punctuation_capitalization.tokens1024.max_seq_length512.bert-base-uncased.batches5.12.tar\n",
      "-rw-r--r-- 1 root root 122880 Oct  4 22:16 punctuation_capitalization.tokens1024.max_seq_length512.bert-base-uncased.batches5.13.tar\n",
      "-rw-r--r-- 1 root root 122880 Oct  4 22:16 punctuation_capitalization.tokens1024.max_seq_length512.bert-base-uncased.batches5.14.tar\n",
      "-rw-r--r-- 1 root root 122880 Oct  4 22:16 punctuation_capitalization.tokens1024.max_seq_length512.bert-base-uncased.batches5.15.tar\n",
      "-rw-r--r-- 1 root root 122880 Oct  4 22:16 punctuation_capitalization.tokens1024.max_seq_length512.bert-base-uncased.batches5.16.tar\n",
      "-rw-r--r-- 1 root root 122880 Oct  4 22:16 punctuation_capitalization.tokens1024.max_seq_length512.bert-base-uncased.batches5.17.tar\n",
      "-rw-r--r-- 1 root root 122880 Oct  4 22:16 punctuation_capitalization.tokens1024.max_seq_length512.bert-base-uncased.batches5.18.tar\n",
      "-rw-r--r-- 1 root root 122880 Oct  4 22:16 punctuation_capitalization.tokens1024.max_seq_length512.bert-base-uncased.batches5.19.tar\n",
      "-rw-r--r-- 1 root root 122880 Oct  4 22:16 punctuation_capitalization.tokens1024.max_seq_length512.bert-base-uncased.batches5.2.tar\n",
      "-rw-r--r-- 1 root root 122880 Oct  4 22:16 punctuation_capitalization.tokens1024.max_seq_length512.bert-base-uncased.batches5.20.tar\n",
      "-rw-r--r-- 1 root root 122880 Oct  4 22:16 punctuation_capitalization.tokens1024.max_seq_length512.bert-base-uncased.batches5.21.tar\n",
      "-rw-r--r-- 1 root root 122880 Oct  4 22:16 punctuation_capitalization.tokens1024.max_seq_length512.bert-base-uncased.batches5.22.tar\n",
      "-rw-r--r-- 1 root root 122880 Oct  4 22:16 punctuation_capitalization.tokens1024.max_seq_length512.bert-base-uncased.batches5.3.tar\n",
      "-rw-r--r-- 1 root root 122880 Oct  4 22:16 punctuation_capitalization.tokens1024.max_seq_length512.bert-base-uncased.batches5.4.tar\n",
      "-rw-r--r-- 1 root root 122880 Oct  4 22:16 punctuation_capitalization.tokens1024.max_seq_length512.bert-base-uncased.batches5.5.tar\n",
      "-rw-r--r-- 1 root root 122880 Oct  4 22:16 punctuation_capitalization.tokens1024.max_seq_length512.bert-base-uncased.batches5.6.tar\n",
      "-rw-r--r-- 1 root root 122880 Oct  4 22:16 punctuation_capitalization.tokens1024.max_seq_length512.bert-base-uncased.batches5.7.tar\n",
      "-rw-r--r-- 1 root root 122880 Oct  4 22:16 punctuation_capitalization.tokens1024.max_seq_length512.bert-base-uncased.batches5.8.tar\n",
      "-rw-r--r-- 1 root root 112640 Oct  4 22:16 punctuation_capitalization.tokens1024.max_seq_length512.bert-base-uncased.batches5.9.tar\n"
     ]
    }
   ],
   "source": [
    "!ls $DATA_DIR/train_tarred -l"
   ]
  },
  {
   "cell_type": "code",
   "execution_count": 14,
   "metadata": {},
   "outputs": [
    {
     "name": "stdout",
     "output_type": "stream",
     "text": [
      "23\n"
     ]
    }
   ],
   "source": [
    "!ls $DATA_DIR/train_tarred/*.tar | wc -l  # number of tar files"
   ]
  },
  {
   "cell_type": "code",
   "execution_count": 15,
   "metadata": {},
   "outputs": [
    {
     "name": "stdout",
     "output_type": "stream",
     "text": [
      "capit_label_vocab.csv\n",
      "metadata.punctuation_capitalization.tokens1024.max_seq_length512.bert-base-uncased.json\n",
      "punct_label_vocab.csv\n"
     ]
    }
   ],
   "source": [
    "!ls $DATA_DIR/train_tarred/ | grep -v '.tar'  # all not tar files"
   ]
  },
  {
   "cell_type": "markdown",
   "metadata": {},
   "source": [
    "If you wish to use tarred dataset, then you need to \n",
    "- pass metadata JSON file in config parameter `model.train_ds.tar_metadata_file`,\n",
    "- set `model.train_ds.use_tarred_dataset=true`."
   ]
  },
  {
   "cell_type": "markdown",
   "metadata": {
    "colab_type": "text",
    "id": "daludzzL2Jba"
   },
   "source": [
    "# Model Configuration"
   ]
  },
  {
   "cell_type": "markdown",
   "metadata": {
    "colab_type": "text",
    "id": "_whKCxfTMo6Y"
   },
   "source": [
    "In the Punctuation and Capitalization Model, we are jointly training two token-level classifiers on top of the pretrained [BERT](https://arxiv.org/pdf/1810.04805.pdf) model: \n",
    "- one classifier to predict punctuation and\n",
    "- the other one - capitalization.\n",
    "\n",
    "The model is defined in a config file which declares multiple important sections. They are:\n",
    "- **model**: All arguments that are related to the Model - language model, token classifiers, optimizer and schedulers, dataset and any other related information\n",
    "\n",
    "- **trainer**: Any argument to be passed to PyTorch Lightning\n",
    "\n",
    "See [docs](https://docs.nvidia.com/deeplearning/nemo/user-guide/docs/en/main/nlp/punctuation_and_capitalization.html#training-punctuation-and-capitalization-model) for full config description."
   ]
  },
  {
   "cell_type": "code",
   "execution_count": 16,
   "metadata": {
    "colab": {},
    "colab_type": "code",
    "id": "T1gA8PsJ13MJ"
   },
   "outputs": [
    {
     "name": "stdout",
     "output_type": "stream",
     "text": [
      "Downloading config file...\n"
     ]
    }
   ],
   "source": [
    "# download the model's configuration file \n",
    "config_dir = '../models/configs/'\n",
    "os.makedirs(config_dir, exist_ok=True)\n",
    "if not os.path.exists(config_dir + MODEL_CONFIG):\n",
    "    print('Downloading config file...')\n",
    "    wget.download(f'https://raw.githubusercontent.com/NVIDIA/NeMo/{BRANCH}/examples/nlp/token_classification/conf/' + MODEL_CONFIG, config_dir)\n",
    "else:\n",
    "    print ('config file already exists')"
   ]
  },
  {
   "cell_type": "code",
   "execution_count": 17,
   "metadata": {
    "colab": {},
    "colab_type": "code",
    "id": "mX3KmWMvSUQw"
   },
   "outputs": [
    {
     "name": "stdout",
     "output_type": "stream",
     "text": [
      "../models/configs/punctuation_capitalization_config.yaml\n",
      "pretrained_model: null\n",
      "trainer:\n",
      "  devices: 1\n",
      "  num_nodes: 1\n",
      "  max_epochs: 3\n",
      "  max_steps: -1\n",
      "  accumulate_grad_batches: 1\n",
      "  gradient_clip_val: 0.0\n",
      "  precision: 16\n",
      "  accelerator: gpu\n",
      "  strategy: ddp\n",
      "  enable_checkpointing: false\n",
      "  logger: false\n",
      "  log_every_n_steps: 1\n",
      "  val_check_interval: 1.0\n",
      "exp_manager:\n",
      "  exp_dir: null\n",
      "  name: Punctuation_and_Capitalization\n",
      "  create_tensorboard_logger: true\n",
      "  create_checkpoint_callback: true\n",
      "model:\n",
      "  class_labels:\n",
      "    punct_labels_file: punct_label_ids.csv\n",
      "    capit_labels_file: capit_label_ids.csv\n",
      "  common_dataset_parameters:\n",
      "    pad_label: O\n",
      "    ignore_extra_tokens: false\n",
      "    ignore_start_end: true\n",
      "    punct_label_ids: null\n",
      "    capit_label_ids: null\n",
      "    label_vocab_dir: null\n",
      "  train_ds:\n",
      "    use_tarred_dataset: false\n",
      "    ds_item: ???\n",
      "    text_file: text_train.txt\n",
      "    labels_file: labels_train.txt\n",
      "    shuffle: true\n",
      "    num_samples: -1\n",
      "    tokens_in_batch: 15000\n",
      "    max_seq_length: 512\n",
      "    n_jobs: 0\n",
      "    tar_metadata_file: null\n",
      "    tar_shuffle_n: 1\n",
      "  validation_ds:\n",
      "    use_tarred_dataset: false\n",
      "    ds_item: ???\n",
      "    text_file: text_dev.txt\n",
      "    labels_file: labels_dev.txt\n",
      "    shuffle: false\n",
      "    num_samples: -1\n",
      "    tokens_in_batch: 15000\n",
      "    max_seq_length: 512\n",
      "    n_jobs: 0\n",
      "    tar_metadata_file: null\n",
      "  test_ds:\n",
      "    use_tarred_dataset: false\n",
      "    ds_item: ???\n",
      "    text_file: text_dev.txt\n",
      "    labels_file: labels_dev.txt\n",
      "    shuffle: false\n",
      "    num_samples: -1\n",
      "    tokens_in_batch: 15000\n",
      "    max_seq_length: 512\n",
      "    n_jobs: 0\n",
      "    tar_metadata_file: null\n",
      "  tokenizer:\n",
      "    tokenizer_name: ${model.language_model.pretrained_model_name}\n",
      "    vocab_file: null\n",
      "    tokenizer_model: null\n",
      "    special_tokens: null\n",
      "  language_model:\n",
      "    pretrained_model_name: bert-base-uncased\n",
      "    lm_checkpoint: null\n",
      "    config_file: null\n",
      "    config: null\n",
      "  punct_head:\n",
      "    num_fc_layers: 1\n",
      "    fc_dropout: 0.1\n",
      "    activation: relu\n",
      "    use_transformer_init: true\n",
      "  capit_head:\n",
      "    num_fc_layers: 1\n",
      "    fc_dropout: 0.1\n",
      "    activation: relu\n",
      "    use_transformer_init: true\n",
      "  optim:\n",
      "    name: adam\n",
      "    lr: 0.0001\n",
      "    weight_decay: 0.0\n",
      "    sched:\n",
      "      name: WarmupAnnealing\n",
      "      warmup_steps: null\n",
      "      warmup_ratio: 0.1\n",
      "      last_epoch: -1\n",
      "      monitor: val_loss\n",
      "      reduce_on_plateau: false\n",
      "hydra:\n",
      "  run:\n",
      "    dir: .\n",
      "  job_logging:\n",
      "    root:\n",
      "      handlers: null\n",
      "\n"
     ]
    }
   ],
   "source": [
    "# this line will print the entire config of the model\n",
    "config_path = f'../models/configs/{MODEL_CONFIG}'\n",
    "print(config_path)\n",
    "config = OmegaConf.load(config_path)\n",
    "print(OmegaConf.to_yaml(config))"
   ]
  },
  {
   "cell_type": "markdown",
   "metadata": {
    "colab_type": "text",
    "id": "ZCgWzNBkaQLZ"
   },
   "source": [
    "# Setting up Data within the config\n",
    "\n",
    "Among other things, the config file contains dictionaries called `common_dataset_parameters`, `train_ds` and `validation_ds`. These are configurations used to setup the Dataset and DataLoaders of the corresponding config.\n",
    "\n",
    "Specify paths directories with train and dev datasets in parameters `train_ds.ds_item` and `validation_ds.ds_item`.\n",
    "\n",
    "I you want to use multiple datasets for evaluation, specify paths to the directory(ies) with evaluation file(s) in the following way:\n",
    "\n",
    "`model.validation_ds.ds_item=[PATH_TO_DEV1,PATH_TO_DEV2]` (Note no space between the paths and square brackets).\n",
    "\n",
    "Also notice that some configs, including `model.train_ds.ds_item`, have `???` in place of values, this values are required to be specified by the user.\n",
    "\n",
    "Let's now add the data directory path to the config."
   ]
  },
  {
   "cell_type": "code",
   "execution_count": 18,
   "metadata": {
    "colab": {},
    "colab_type": "code",
    "id": "LQHCJN-ZaoLp"
   },
   "outputs": [],
   "source": [
    "# in this tutorial train and dev data is located in the same folder\n",
    "config.model.train_ds.ds_item = DATA_DIR\n",
    "config.model.validation_ds.ds_item=DATA_DIR\n",
    "del config.model.test_ds  # We do not have test data, only train and dev"
   ]
  },
  {
   "cell_type": "markdown",
   "metadata": {
    "colab_type": "text",
    "id": "nB96-3sTc3yk"
   },
   "source": [
    "# Building the PyTorch Lightning Trainer\n",
    "\n",
    "NeMo models are primarily PyTorch Lightning modules - and therefore are entirely compatible with the PyTorch Lightning ecosystem!\n",
    "\n",
    "Let's first instantiate a Trainer object!"
   ]
  },
  {
   "cell_type": "code",
   "execution_count": 19,
   "metadata": {
    "colab": {},
    "colab_type": "code",
    "id": "1tG4FzZ4Ui60"
   },
   "outputs": [
    {
     "name": "stdout",
     "output_type": "stream",
     "text": [
      "Trainer config - \n",
      "\n",
      "devices: 1\n",
      "num_nodes: 1\n",
      "max_epochs: 3\n",
      "max_steps: -1\n",
      "accumulate_grad_batches: 1\n",
      "gradient_clip_val: 0.0\n",
      "precision: 16\n",
      "accelerator: gpu\n",
      "strategy: ddp\n",
      "enable_checkpointing: false\n",
      "logger: false\n",
      "log_every_n_steps: 1\n",
      "val_check_interval: 1.0\n",
      "\n"
     ]
    }
   ],
   "source": [
    "print(\"Trainer config - \\n\")\n",
    "print(OmegaConf.to_yaml(config.trainer))"
   ]
  },
  {
   "cell_type": "code",
   "execution_count": 20,
   "metadata": {
    "colab": {},
    "colab_type": "code",
    "id": "knF6QeQQdMrH"
   },
   "outputs": [
    {
     "name": "stderr",
     "output_type": "stream",
     "text": [
      "Using 16bit None Automatic Mixed Precision (AMP)\n",
      "GPU available: True (cuda), used: True\n",
      "TPU available: False, using: 0 TPU cores\n",
      "IPU available: False, using: 0 IPUs\n",
      "HPU available: False, using: 0 HPUs\n",
      "`Trainer(val_check_interval=1.0)` was configured so validation will run at the end of the training epoch..\n"
     ]
    }
   ],
   "source": [
    "# lets modify some trainer configs\n",
    "# checks if we have GPU available and uses it\n",
    "accelerator = 'gpu' if torch.cuda.is_available() else 'cpu'\n",
    "config.trainer.devices = 1\n",
    "config.trainer.accelerator = accelerator\n",
    "config.trainer.precision = 16 if torch.cuda.is_available() else 32\n",
    "\n",
    "# For mixed precision training, use precision=16 and amp_level=O1\n",
    "\n",
    "# Reduces maximum number of epochs to 1 for a quick training\n",
    "config.trainer.max_epochs = 1\n",
    "\n",
    "# Remove distributed training flags\n",
    "config.trainer.strategy = None\n",
    "\n",
    "trainer = pl.Trainer(**config.trainer)"
   ]
  },
  {
   "cell_type": "markdown",
   "metadata": {
    "colab_type": "text",
    "id": "8IlEMdVxdr6p"
   },
   "source": [
    "# Setting up a NeMo Experiment¶\n",
    "\n",
    "NeMo has an experiment manager that handles logging and checkpointing for us, so let's use it!"
   ]
  },
  {
   "cell_type": "code",
   "execution_count": 21,
   "metadata": {
    "colab": {},
    "colab_type": "code",
    "id": "8uztqGAmdrYt"
   },
   "outputs": [
    {
     "name": "stdout",
     "output_type": "stream",
     "text": [
      "[NeMo I 2023-10-04 22:16:34 exp_manager:374] Experiments will be logged at /project/code/nemo_experiments/Punctuation_and_Capitalization/2023-10-04_22-16-34\n",
      "[NeMo I 2023-10-04 22:16:34 exp_manager:797] TensorboardLogger has been set up\n"
     ]
    },
    {
     "data": {
      "text/plain": [
       "'/project/code/nemo_experiments/Punctuation_and_Capitalization/2023-10-04_22-16-34'"
      ]
     },
     "execution_count": 21,
     "metadata": {},
     "output_type": "execute_result"
    }
   ],
   "source": [
    "exp_dir = exp_manager(trainer, config.get(\"exp_manager\", None))\n",
    "\n",
    "# the exp_dir provides a path to the current experiment for easy access\n",
    "exp_dir = str(exp_dir)\n",
    "exp_dir"
   ]
  },
  {
   "cell_type": "markdown",
   "metadata": {
    "colab_type": "text",
    "id": "6FI_nQsJo_11"
   },
   "source": [
    "# Model Training"
   ]
  },
  {
   "cell_type": "markdown",
   "metadata": {
    "colab_type": "text",
    "id": "8tjLhUvL_o7_"
   },
   "source": [
    "Before initializing the model, we might want to modify some of the model configs. For example, we might want to modify the pretrained BERT model."
   ]
  },
  {
   "cell_type": "code",
   "execution_count": 22,
   "metadata": {
    "colab": {},
    "colab_type": "code",
    "id": "Xeuc2i7Y_nP5"
   },
   "outputs": [
    {
     "name": "stdout",
     "output_type": "stream",
     "text": [
      "['bert-base-uncased', 'bert-large-uncased', 'bert-base-cased', 'bert-large-cased', 'bert-base-multilingual-uncased', 'bert-base-multilingual-cased', 'bert-base-chinese', 'bert-base-german-cased', 'bert-large-uncased-whole-word-masking', 'bert-large-cased-whole-word-masking', 'bert-large-uncased-whole-word-masking-finetuned-squad', 'bert-large-cased-whole-word-masking-finetuned-squad', 'bert-base-cased-finetuned-mrpc', 'bert-base-german-dbmdz-cased', 'bert-base-german-dbmdz-uncased', 'cl-tohoku/bert-base-japanese', 'cl-tohoku/bert-base-japanese-whole-word-masking', 'cl-tohoku/bert-base-japanese-char', 'cl-tohoku/bert-base-japanese-char-whole-word-masking', 'TurkuNLP/bert-base-finnish-cased-v1', 'TurkuNLP/bert-base-finnish-uncased-v1', 'wietsedv/bert-base-dutch-cased', 'distilbert-base-uncased', 'distilbert-base-uncased-distilled-squad', 'distilbert-base-cased', 'distilbert-base-cased-distilled-squad', 'distilbert-base-german-cased', 'distilbert-base-multilingual-cased', 'distilbert-base-uncased-finetuned-sst-2-english', 'camembert-base', 'Musixmatch/umberto-commoncrawl-cased-v1', 'Musixmatch/umberto-wikipedia-uncased-v1', 'roberta-base', 'roberta-large', 'roberta-large-mnli', 'distilroberta-base', 'roberta-base-openai-detector', 'roberta-large-openai-detector', 'albert-base-v1', 'albert-large-v1', 'albert-xlarge-v1', 'albert-xxlarge-v1', 'albert-base-v2', 'albert-large-v2', 'albert-xlarge-v2', 'albert-xxlarge-v2', 'gpt2', 'gpt2-medium', 'gpt2-large', 'gpt2-xl', 'distilgpt2']\n"
     ]
    }
   ],
   "source": [
    "# complete list of supported BERT-like models\n",
    "print(nemo_nlp.modules.get_pretrained_lm_models_list())\n",
    "\n",
    "PRETRAINED_BERT_MODEL = \"bert-base-uncased\""
   ]
  },
  {
   "cell_type": "code",
   "execution_count": 23,
   "metadata": {
    "colab": {},
    "colab_type": "code",
    "id": "RK2xglXyAUOO"
   },
   "outputs": [],
   "source": [
    "# add the specified above model parameters to the config\n",
    "config.model.language_model.pretrained_model_name = PRETRAINED_BERT_MODEL\n",
    "config.model.train_ds.tokens_in_batch = TOKENS_IN_BATCH\n",
    "config.model.validation_ds.tokens_in_batch = TOKENS_IN_BATCH\n",
    "config.model.optim.lr = LEARNING_RATE\n",
    "config.model.train_ds.num_samples = NUM_SAMPLES\n",
    "config.model.validation_ds.num_samples = NUM_SAMPLES\n"
   ]
  },
  {
   "cell_type": "markdown",
   "metadata": {
    "colab_type": "text",
    "id": "gYKcziSsiAAd"
   },
   "source": [
    "Now, we are ready to initialize our model. During the model initialization call, the dataset and data loaders we'll be prepared for training and evaluation.\n",
    "Also, the pretrained BERT model will be downloaded, note it can take up to a few minutes depending on the size of the chosen BERT model."
   ]
  },
  {
   "cell_type": "code",
   "execution_count": 24,
   "metadata": {
    "colab": {},
    "colab_type": "code",
    "id": "Yk2hJssviAAe",
    "pycharm": {
     "name": "#%%\n"
    }
   },
   "outputs": [
    {
     "name": "stdout",
     "output_type": "stream",
     "text": [
      "[NeMo I 2023-10-04 22:16:34 tokenizer_utils:130] Getting HuggingFace AutoTokenizer with pretrained_model_name: bert-base-uncased, vocab_file: None, merges_files: None, special_tokens_dict: {}, and use_fast: False\n"
     ]
    },
    {
     "name": "stderr",
     "output_type": "stream",
     "text": [
      "Using eos_token, but it is not set yet.\n",
      "Using bos_token, but it is not set yet.\n",
      "[NeMo W 2023-10-04 22:16:35 modelPT:244] You tried to register an artifact under config key=tokenizer.vocab_file but an artifact for it has already been registered.\n"
     ]
    },
    {
     "name": "stdout",
     "output_type": "stream",
     "text": [
      "[NeMo I 2023-10-04 22:16:35 punctuation_capitalization_dataset:1121] Processing ../data/text_train.txt\n",
      "[NeMo I 2023-10-04 22:16:35 punctuation_capitalization_dataset:662] Start initial tokenization.\n",
      "[NeMo I 2023-10-04 22:16:35 punctuation_capitalization_dataset:668] Running tokenization with 0 jobs.\n"
     ]
    },
    {
     "name": "stderr",
     "output_type": "stream",
     "text": [
      "Tokenization:  88%|████████▊ | 7.00k/8.00k [00:03<00:00, 2.25kquery/s]"
     ]
    },
    {
     "name": "stdout",
     "output_type": "stream",
     "text": [
      "[NeMo I 2023-10-04 22:16:38 punctuation_capitalization_dataset:595] Finished processing data split number 0\n"
     ]
    },
    {
     "name": "stderr",
     "output_type": "stream",
     "text": [
      "Tokenization: 100%|██████████| 8.00k/8.00k [00:03<00:00, 2.15kquery/s]\n"
     ]
    },
    {
     "name": "stdout",
     "output_type": "stream",
     "text": [
      "[NeMo I 2023-10-04 22:16:39 punctuation_capitalization_dataset:726] Finished initial tokenization.\n",
      "[NeMo I 2023-10-04 22:16:39 data_preprocessing:404] Some stats of the lengths of the sequences:\n",
      "[NeMo I 2023-10-04 22:16:39 data_preprocessing:406] Min: 4 |                  Max: 35 |                  Mean: 10.627 |                  Median: 10.0\n",
      "[NeMo I 2023-10-04 22:16:39 data_preprocessing:412] 75 percentile: 12.00\n",
      "[NeMo I 2023-10-04 22:16:39 data_preprocessing:413] 99 percentile: 24.00\n",
      "[NeMo I 2023-10-04 22:16:39 punctuation_capitalization_dataset:728] Finished clipping and padding.\n",
      "[NeMo I 2023-10-04 22:16:39 punctuation_capitalization_dataset:730] *** Example ***\n",
      "[NeMo I 2023-10-04 22:16:39 punctuation_capitalization_dataset:731] i: 0\n",
      "[NeMo I 2023-10-04 22:16:39 punctuation_capitalization_dataset:732] subtokens: 101 2292 1005 1055 3046 2242 102\n",
      "[NeMo I 2023-10-04 22:16:39 punctuation_capitalization_dataset:733] subtokens_mask: False True False False True True False\n",
      "[NeMo I 2023-10-04 22:16:39 punctuation_capitalization_dataset:734] punct_labels: 0 0 0 0 0 2 0\n",
      "[NeMo I 2023-10-04 22:16:39 punctuation_capitalization_dataset:735] capit_labels: 0 1 1 1 0 0 0\n",
      "[NeMo I 2023-10-04 22:16:39 punctuation_capitalization_dataset:730] *** Example ***\n",
      "[NeMo I 2023-10-04 22:16:39 punctuation_capitalization_dataset:731] i: 1\n",
      "[NeMo I 2023-10-04 22:16:39 punctuation_capitalization_dataset:732] subtokens: 101 1045 2031 2000 2175 2000 3637 102\n",
      "[NeMo I 2023-10-04 22:16:39 punctuation_capitalization_dataset:733] subtokens_mask: False True True True True True True False\n",
      "[NeMo I 2023-10-04 22:16:39 punctuation_capitalization_dataset:734] punct_labels: 0 0 0 0 0 0 2 0\n",
      "[NeMo I 2023-10-04 22:16:39 punctuation_capitalization_dataset:735] capit_labels: 0 1 0 0 0 0 0 0\n",
      "[NeMo I 2023-10-04 22:16:39 punctuation_capitalization_dataset:730] *** Example ***\n",
      "[NeMo I 2023-10-04 22:16:39 punctuation_capitalization_dataset:731] i: 2\n",
      "[NeMo I 2023-10-04 22:16:39 punctuation_capitalization_dataset:732] subtokens: 101 1045 2097 2022 2067 2574 102\n",
      "[NeMo I 2023-10-04 22:16:39 punctuation_capitalization_dataset:733] subtokens_mask: False True True True True True False\n",
      "[NeMo I 2023-10-04 22:16:39 punctuation_capitalization_dataset:734] punct_labels: 0 0 0 0 0 2 0\n",
      "[NeMo I 2023-10-04 22:16:39 punctuation_capitalization_dataset:735] capit_labels: 0 1 0 0 0 0 0\n",
      "[NeMo I 2023-10-04 22:16:39 punctuation_capitalization_dataset:730] *** Example ***\n",
      "[NeMo I 2023-10-04 22:16:39 punctuation_capitalization_dataset:731] i: 3\n",
      "[NeMo I 2023-10-04 22:16:39 punctuation_capitalization_dataset:732] subtokens: 101 1045 1005 1049 2012 1037 3279 2005 2616 102\n",
      "[NeMo I 2023-10-04 22:16:39 punctuation_capitalization_dataset:733] subtokens_mask: False True False False True True True True True False\n",
      "[NeMo I 2023-10-04 22:16:39 punctuation_capitalization_dataset:734] punct_labels: 0 0 0 0 0 0 0 0 2 0\n",
      "[NeMo I 2023-10-04 22:16:39 punctuation_capitalization_dataset:735] capit_labels: 0 1 1 1 0 0 0 0 0 0\n",
      "[NeMo I 2023-10-04 22:16:39 punctuation_capitalization_dataset:730] *** Example ***\n",
      "[NeMo I 2023-10-04 22:16:39 punctuation_capitalization_dataset:731] i: 4\n",
      "[NeMo I 2023-10-04 22:16:39 punctuation_capitalization_dataset:732] subtokens: 101 2023 2003 2196 2183 2000 2203 102\n",
      "[NeMo I 2023-10-04 22:16:39 punctuation_capitalization_dataset:733] subtokens_mask: False True True True True True True False\n",
      "[NeMo I 2023-10-04 22:16:39 punctuation_capitalization_dataset:734] punct_labels: 0 0 0 0 0 0 2 0\n",
      "[NeMo I 2023-10-04 22:16:39 punctuation_capitalization_dataset:735] capit_labels: 0 1 0 0 0 0 0 0\n",
      "[NeMo I 2023-10-04 22:16:39 punctuation_capitalization_dataset:1175] Features saved to ../data/cached.__text_train.txt__labels_train.txt__.BertTokenizer.max_seq_length512.vocab30522.num_samples10000.punctuation_capitalization.pkl\n"
     ]
    },
    {
     "name": "stderr",
     "output_type": "stream",
     "text": [
      "Batch mark up: 100%|██████████| 8000/8000 [00:00<00:00, 1160691.55query/s]\n",
      "Batch building: 100%|██████████| 114/114 [00:00<00:00, 838.89batch/s]"
     ]
    },
    {
     "name": "stdout",
     "output_type": "stream",
     "text": [
      "[NeMo I 2023-10-04 22:16:39 punctuation_capitalization_dataset:1121] Processing ../data/text_dev.txt\n",
      "[NeMo I 2023-10-04 22:16:39 punctuation_capitalization_dataset:662] Start initial tokenization.\n",
      "[NeMo I 2023-10-04 22:16:39 punctuation_capitalization_dataset:668] Running tokenization with 0 jobs.\n"
     ]
    },
    {
     "name": "stderr",
     "output_type": "stream",
     "text": [
      "\n",
      "Tokenization:  50%|█████     | 1.00k/2.00k [00:00<00:00, 1.99kquery/s]"
     ]
    },
    {
     "name": "stdout",
     "output_type": "stream",
     "text": [
      "[NeMo I 2023-10-04 22:16:40 punctuation_capitalization_dataset:595] Finished processing data split number 0\n"
     ]
    },
    {
     "name": "stderr",
     "output_type": "stream",
     "text": [
      "Tokenization: 100%|██████████| 2.00k/2.00k [00:00<00:00, 2.21kquery/s]\n"
     ]
    },
    {
     "name": "stdout",
     "output_type": "stream",
     "text": [
      "[NeMo I 2023-10-04 22:16:40 punctuation_capitalization_dataset:726] Finished initial tokenization.\n",
      "[NeMo I 2023-10-04 22:16:40 data_preprocessing:404] Some stats of the lengths of the sequences:\n",
      "[NeMo I 2023-10-04 22:16:40 data_preprocessing:406] Min: 4 |                  Max: 32 |                  Mean: 10.277 |                  Median: 10.0\n",
      "[NeMo I 2023-10-04 22:16:40 data_preprocessing:412] 75 percentile: 12.00\n",
      "[NeMo I 2023-10-04 22:16:40 data_preprocessing:413] 99 percentile: 22.00\n",
      "[NeMo I 2023-10-04 22:16:40 punctuation_capitalization_dataset:728] Finished clipping and padding.\n",
      "[NeMo I 2023-10-04 22:16:40 punctuation_capitalization_dataset:730] *** Example ***\n",
      "[NeMo I 2023-10-04 22:16:40 punctuation_capitalization_dataset:731] i: 0\n",
      "[NeMo I 2023-10-04 22:16:40 punctuation_capitalization_dataset:732] subtokens: 101 2057 2031 1996 4522 1997 2331 1998 12339 102\n",
      "[NeMo I 2023-10-04 22:16:40 punctuation_capitalization_dataset:733] subtokens_mask: False True True True True True True True True False\n",
      "[NeMo I 2023-10-04 22:16:40 punctuation_capitalization_dataset:734] punct_labels: 0 0 0 0 0 0 0 0 2 0\n",
      "[NeMo I 2023-10-04 22:16:40 punctuation_capitalization_dataset:735] capit_labels: 0 1 0 0 0 0 0 0 0 0\n",
      "[NeMo I 2023-10-04 22:16:40 punctuation_capitalization_dataset:730] *** Example ***\n",
      "[NeMo I 2023-10-04 22:16:40 punctuation_capitalization_dataset:731] i: 1\n",
      "[NeMo I 2023-10-04 22:16:40 punctuation_capitalization_dataset:732] subtokens: 101 2498 6963 2256 2126 102\n",
      "[NeMo I 2023-10-04 22:16:40 punctuation_capitalization_dataset:733] subtokens_mask: False True True True True False\n",
      "[NeMo I 2023-10-04 22:16:40 punctuation_capitalization_dataset:734] punct_labels: 0 0 0 0 2 0\n",
      "[NeMo I 2023-10-04 22:16:40 punctuation_capitalization_dataset:735] capit_labels: 0 1 0 0 0 0\n",
      "[NeMo I 2023-10-04 22:16:40 punctuation_capitalization_dataset:730] *** Example ***\n",
      "[NeMo I 2023-10-04 22:16:40 punctuation_capitalization_dataset:731] i: 2\n",
      "[NeMo I 2023-10-04 22:16:40 punctuation_capitalization_dataset:732] subtokens: 101 2057 2018 2019 24655 3820 2008 2057 2052 2490 2169 2060 102\n",
      "[NeMo I 2023-10-04 22:16:40 punctuation_capitalization_dataset:733] subtokens_mask: False True True True True True True True True True True True False\n",
      "[NeMo I 2023-10-04 22:16:40 punctuation_capitalization_dataset:734] punct_labels: 0 0 0 0 0 0 0 0 0 0 0 2 0\n",
      "[NeMo I 2023-10-04 22:16:40 punctuation_capitalization_dataset:735] capit_labels: 0 1 0 0 0 0 0 0 0 0 0 0 0\n",
      "[NeMo I 2023-10-04 22:16:40 punctuation_capitalization_dataset:730] *** Example ***\n",
      "[NeMo I 2023-10-04 22:16:40 punctuation_capitalization_dataset:731] i: 3\n",
      "[NeMo I 2023-10-04 22:16:40 punctuation_capitalization_dataset:732] subtokens: 101 2057 2018 1037 7263 4489 1997 5448 102\n",
      "[NeMo I 2023-10-04 22:16:40 punctuation_capitalization_dataset:733] subtokens_mask: False True True True True True True True False\n",
      "[NeMo I 2023-10-04 22:16:40 punctuation_capitalization_dataset:734] punct_labels: 0 0 0 0 0 0 0 2 0\n",
      "[NeMo I 2023-10-04 22:16:40 punctuation_capitalization_dataset:735] capit_labels: 0 1 0 0 0 0 0 0 0\n",
      "[NeMo I 2023-10-04 22:16:40 punctuation_capitalization_dataset:730] *** Example ***\n",
      "[NeMo I 2023-10-04 22:16:40 punctuation_capitalization_dataset:731] i: 4\n",
      "[NeMo I 2023-10-04 22:16:40 punctuation_capitalization_dataset:732] subtokens: 101 2009 2003 2025 4072 2005 2149 2000 5463 1996 3116 102\n",
      "[NeMo I 2023-10-04 22:16:40 punctuation_capitalization_dataset:733] subtokens_mask: False True True True True True True True True True True False\n",
      "[NeMo I 2023-10-04 22:16:40 punctuation_capitalization_dataset:734] punct_labels: 0 0 0 0 0 0 0 0 0 0 2 0\n",
      "[NeMo I 2023-10-04 22:16:40 punctuation_capitalization_dataset:735] capit_labels: 0 1 0 0 0 0 0 0 0 0 0 0\n",
      "[NeMo I 2023-10-04 22:16:40 punctuation_capitalization_dataset:1175] Features saved to ../data/cached.__text_dev.txt__labels_dev.txt__.BertTokenizer.max_seq_length512.vocab30522.num_samples10000.punctuation_capitalization.pkl\n"
     ]
    },
    {
     "name": "stderr",
     "output_type": "stream",
     "text": [
      "Batch mark up: 100%|██████████| 2000/2000 [00:00<00:00, 1158647.51query/s]\n",
      "Batch building: 100%|██████████| 28/28 [00:00<00:00, 838.62batch/s]\n"
     ]
    },
    {
     "data": {
      "application/vnd.jupyter.widget-view+json": {
       "model_id": "eacc18b7c8984aa5b59d37d2aee1e38a",
       "version_major": 2,
       "version_minor": 0
      },
      "text/plain": [
       "Downloading model.safetensors:   0%|          | 0.00/440M [00:00<?, ?B/s]"
      ]
     },
     "metadata": {},
     "output_type": "display_data"
    }
   ],
   "source": [
    "# initialize the model\n",
    "# during this stage, the dataset and data loaders we'll be prepared for training and evaluation\n",
    "model = nemo_nlp.models.PunctuationCapitalizationModel(cfg=config.model, trainer=trainer)"
   ]
  },
  {
   "cell_type": "markdown",
   "metadata": {
    "colab_type": "text",
    "id": "kQ592Tx4pzyB"
   },
   "source": [
    "## Monitoring training progress\n",
    "Optionally, you can create a Tensorboard visualization to monitor training progress."
   ]
  },
  {
   "cell_type": "code",
   "execution_count": 25,
   "metadata": {
    "colab": {},
    "colab_type": "code",
    "id": "mTJr16_pp0aS"
   },
   "outputs": [
    {
     "name": "stdout",
     "output_type": "stream",
     "text": [
      "To use tensorboard, please use this notebook in a Google Colab environment.\n"
     ]
    }
   ],
   "source": [
    "try:\n",
    "  from google import colab\n",
    "  COLAB_ENV = True\n",
    "except (ImportError, ModuleNotFoundError):\n",
    "  COLAB_ENV = False\n",
    "\n",
    "# Load the TensorBoard notebook extension\n",
    "if COLAB_ENV:\n",
    "  %load_ext tensorboard\n",
    "  %tensorboard --logdir {exp_dir}\n",
    "else:\n",
    "  print(\"To use tensorboard, please use this notebook in a Google Colab environment.\")"
   ]
  },
  {
   "cell_type": "code",
   "execution_count": 26,
   "metadata": {
    "colab": {},
    "colab_type": "code",
    "id": "hUvnSpyjp0Dh"
   },
   "outputs": [
    {
     "name": "stderr",
     "output_type": "stream",
     "text": [
      "LOCAL_RANK: 0 - CUDA_VISIBLE_DEVICES: [0]\n"
     ]
    },
    {
     "name": "stdout",
     "output_type": "stream",
     "text": [
      "[NeMo I 2023-10-04 22:16:53 modelPT:721] Optimizer config = Adam (\n",
      "    Parameter Group 0\n",
      "        amsgrad: False\n",
      "        betas: (0.9, 0.999)\n",
      "        capturable: False\n",
      "        differentiable: False\n",
      "        eps: 1e-08\n",
      "        foreach: None\n",
      "        fused: None\n",
      "        lr: 2e-05\n",
      "        maximize: False\n",
      "        weight_decay: 0.0\n",
      "    )\n",
      "[NeMo I 2023-10-04 22:16:53 lr_scheduler:910] Scheduler \"<nemo.core.optim.lr_scheduler.WarmupAnnealing object at 0x7fb7d74c0cd0>\" \n",
      "    will be used during training (effective maximum steps = 114) - \n",
      "    Parameters : \n",
      "    (warmup_steps: null\n",
      "    warmup_ratio: 0.1\n",
      "    last_epoch: -1\n",
      "    max_steps: 114\n",
      "    )\n"
     ]
    },
    {
     "name": "stderr",
     "output_type": "stream",
     "text": [
      "\n",
      "  | Name             | Type             | Params\n",
      "------------------------------------------------------\n",
      "0 | metrics          | ModuleDict       | 0     \n",
      "1 | bert_model       | BertEncoder      | 109 M \n",
      "2 | punct_classifier | TokenClassifier  | 3.1 K \n",
      "3 | capit_classifier | TokenClassifier  | 1.5 K \n",
      "4 | loss             | CrossEntropyLoss | 0     \n",
      "5 | agg_loss         | AggregatorLoss   | 0     \n",
      "------------------------------------------------------\n",
      "109 M     Trainable params\n",
      "0         Non-trainable params\n",
      "109 M     Total params\n",
      "218.974   Total estimated model params size (MB)\n"
     ]
    },
    {
     "data": {
      "application/vnd.jupyter.widget-view+json": {
       "model_id": "cbff7c767d5042c89be87f4ac45cb603",
       "version_major": 2,
       "version_minor": 0
      },
      "text/plain": [
       "Sanity Checking: 0it [00:00, ?it/s]"
      ]
     },
     "metadata": {},
     "output_type": "display_data"
    },
    {
     "name": "stdout",
     "output_type": "stream",
     "text": [
      "[NeMo I 2023-10-04 22:16:54 punctuation_capitalization_model:333] Punctuation report: \n",
      "    label                                                precision    recall       f1           support   \n",
      "    O (label_id: 0)                                         85.04      11.09      19.62        974\n",
      "    , (label_id: 1)                                          0.00       0.00       0.00         18\n",
      "    . (label_id: 2)                                          4.24       8.55       5.67        117\n",
      "    ? (label_id: 3)                                          0.66      33.33       1.29         12\n",
      "    -------------------\n",
      "    micro avg                                               10.88      10.88      10.88       1121\n",
      "    macro avg                                               22.48      13.24       6.64       1121\n",
      "    weighted avg                                            74.34      10.88      17.65       1121\n",
      "    \n",
      "[NeMo I 2023-10-04 22:16:54 punctuation_capitalization_model:334] Capitalization report: \n",
      "    label                                                precision    recall       f1           support   \n",
      "    O (label_id: 0)                                         80.48      45.28      57.96        965\n",
      "    U (label_id: 1)                                          8.65      32.05      13.62        156\n",
      "    -------------------\n",
      "    micro avg                                               43.44      43.44      43.44       1121\n",
      "    macro avg                                               44.56      38.67      35.79       1121\n",
      "    weighted avg                                            70.48      43.44      51.79       1121\n",
      "    \n"
     ]
    },
    {
     "data": {
      "application/vnd.jupyter.widget-view+json": {
       "model_id": "f71aef9aaf3646f7888b15fd5493dbe9",
       "version_major": 2,
       "version_minor": 0
      },
      "text/plain": [
       "Training: 0it [00:00, ?it/s]"
      ]
     },
     "metadata": {},
     "output_type": "display_data"
    },
    {
     "name": "stdout",
     "output_type": "stream",
     "text": [
      "[NeMo I 2023-10-04 22:16:54 preemption:56] Preemption requires torch distributed to be initialized, disabling preemption\n"
     ]
    },
    {
     "name": "stderr",
     "output_type": "stream",
     "text": [
      "[NeMo W 2023-10-04 22:16:55 nemo_logging:349] /usr/local/lib/python3.10/dist-packages/torch/optim/lr_scheduler.py:139: UserWarning: Detected call of `lr_scheduler.step()` before `optimizer.step()`. In PyTorch 1.1.0 and later, you should call them in the opposite order: `optimizer.step()` before `lr_scheduler.step()`.  Failure to do this will result in PyTorch skipping the first value of the learning rate schedule. See more details at https://pytorch.org/docs/stable/optim.html#how-to-adjust-learning-rate\n",
      "      warnings.warn(\"Detected call of `lr_scheduler.step()` before `optimizer.step()`. \"\n",
      "    \n"
     ]
    },
    {
     "data": {
      "application/vnd.jupyter.widget-view+json": {
       "model_id": "e8c0a456a9e34f8f93251ea9b2ea0967",
       "version_major": 2,
       "version_minor": 0
      },
      "text/plain": [
       "Validation: 0it [00:00, ?it/s]"
      ]
     },
     "metadata": {},
     "output_type": "display_data"
    },
    {
     "name": "stdout",
     "output_type": "stream",
     "text": [
      "[NeMo I 2023-10-04 22:17:01 punctuation_capitalization_model:333] Punctuation report: \n",
      "    label                                                precision    recall       f1           support   \n",
      "    O (label_id: 0)                                         97.93      99.89      98.90      13315\n",
      "    , (label_id: 1)                                          0.00       0.00       0.00        311\n",
      "    . (label_id: 2)                                         76.30      95.99      85.02       1647\n",
      "    ? (label_id: 3)                                          0.00       0.00       0.00        380\n",
      "    -------------------\n",
      "    micro avg                                               95.07      95.07      95.07      15653\n",
      "    macro avg                                               43.56      48.97      45.98      15653\n",
      "    weighted avg                                            91.33      95.07      93.07      15653\n",
      "    \n",
      "[NeMo I 2023-10-04 22:17:01 punctuation_capitalization_model:334] Capitalization report: \n",
      "    label                                                precision    recall       f1           support   \n",
      "    O (label_id: 0)                                         98.29      99.67      98.97      13268\n",
      "    U (label_id: 1)                                         98.00      90.36      94.02       2385\n",
      "    -------------------\n",
      "    micro avg                                               98.25      98.25      98.25      15653\n",
      "    macro avg                                               98.14      95.01      96.50      15653\n",
      "    weighted avg                                            98.25      98.25      98.22      15653\n",
      "    \n"
     ]
    },
    {
     "name": "stderr",
     "output_type": "stream",
     "text": [
      "Epoch 0, global step 114: 'val_loss' reached 0.19576 (best 0.19576), saving model to '/project/code/nemo_experiments/Punctuation_and_Capitalization/2023-10-04_22-16-34/checkpoints/Punctuation_and_Capitalization--val_loss=0.1958-epoch=0.ckpt' as top 3\n"
     ]
    },
    {
     "name": "stdout",
     "output_type": "stream",
     "text": [
      "[NeMo I 2023-10-04 22:17:07 punctuation_capitalization_dataset:1821] Shuffling training dataset\n"
     ]
    },
    {
     "name": "stderr",
     "output_type": "stream",
     "text": [
      "\n",
      "Batch mark up: 100%|██████████| 8000/8000 [00:00<00:00, 1114394.95query/s]\n",
      "\n",
      "Batch building:   0%|          | 0/114 [00:00<?, ?batch/s]\u001b[A\n",
      "Batch building: 100%|██████████| 114/114 [00:00<00:00, 800.88batch/s][A\n",
      "`Trainer.fit` stopped: `max_epochs=1` reached.\n"
     ]
    }
   ],
   "source": [
    "# start the training\n",
    "trainer.fit(model)"
   ]
  },
  {
   "cell_type": "markdown",
   "metadata": {},
   "source": [
    "# Training using tarred dataset"
   ]
  },
  {
   "cell_type": "code",
   "execution_count": 27,
   "metadata": {},
   "outputs": [],
   "source": [
    "config = OmegaConf.load(config_path)\n",
    "config.model.train_ds.ds_item = f'{DATA_DIR}/train_tarred'\n",
    "config.model.train_ds.use_tarred_dataset = True\n",
    "# Only metadata file name is required if `use_tarred_dataset=true`.\n",
    "config.model.train_ds.tar_metadata_file = 'metadata.punctuation_capitalization.tokens1024.max_seq_length512.bert-base-uncased.json'\n",
    "config.model.validation_ds.ds_item = DATA_DIR\n",
    "del config.model.test_ds  # We do not have test data, only train and dev\n",
    "\n",
    "# Trainer\n",
    "accelerator = 'gpu' if torch.cuda.is_available() else 'cpu'\n",
    "config.trainer.devices = 1\n",
    "config.trainer.accelerator = accelerator\n",
    "config.trainer.precision = 16 if torch.cuda.is_available() else 32\n",
    "config.trainer.max_epochs = 1\n",
    "config.trainer.strategy = None\n",
    "\n",
    "# Exp manager\n",
    "config.exp_manager.explicit_log_dir = 'tarred_experiment'\n",
    "\n",
    "config.model.language_model.pretrained_model_name = PRETRAINED_BERT_MODEL\n",
    "config.model.validation_ds.tokens_in_batch = TOKENS_IN_BATCH\n",
    "config.model.optim.lr = LEARNING_RATE\n",
    "config.model.validation_ds.num_samples = NUM_SAMPLES"
   ]
  },
  {
   "cell_type": "code",
   "execution_count": 28,
   "metadata": {},
   "outputs": [
    {
     "name": "stderr",
     "output_type": "stream",
     "text": [
      "Using 16bit None Automatic Mixed Precision (AMP)\n",
      "GPU available: True (cuda), used: True\n",
      "TPU available: False, using: 0 TPU cores\n",
      "IPU available: False, using: 0 IPUs\n",
      "HPU available: False, using: 0 HPUs\n",
      "`Trainer(val_check_interval=1.0)` was configured so validation will run at the end of the training epoch..\n"
     ]
    },
    {
     "name": "stdout",
     "output_type": "stream",
     "text": [
      "[NeMo I 2023-10-04 22:17:13 exp_manager:374] Experiments will be logged at tarred_experiment\n",
      "[NeMo I 2023-10-04 22:17:13 exp_manager:797] TensorboardLogger has been set up\n",
      "[NeMo I 2023-10-04 22:17:13 tokenizer_utils:130] Getting HuggingFace AutoTokenizer with pretrained_model_name: bert-base-uncased, vocab_file: None, merges_files: None, special_tokens_dict: {}, and use_fast: False\n"
     ]
    },
    {
     "name": "stderr",
     "output_type": "stream",
     "text": [
      "Using eos_token, but it is not set yet.\n",
      "Using bos_token, but it is not set yet.\n",
      "[NeMo W 2023-10-04 22:17:14 modelPT:244] You tried to register an artifact under config key=tokenizer.vocab_file but an artifact for it has already been registered.\n"
     ]
    },
    {
     "name": "stdout",
     "output_type": "stream",
     "text": [
      "[NeMo I 2023-10-04 22:17:14 punctuation_capitalization_tarred_dataset:1030] Tarred dataset shards will be scattered evenly across all nodes.\n",
      "[NeMo I 2023-10-04 22:17:14 punctuation_capitalization_tarred_dataset:1039] Partitioning tarred dataset: process (0) taking shards [0, 23)\n"
     ]
    },
    {
     "name": "stderr",
     "output_type": "stream",
     "text": [
      "[NeMo W 2023-10-04 22:17:14 punctuation_capitalization_model:880] Shuffling in dataloader is not supported for tarred dataset.\n"
     ]
    },
    {
     "name": "stdout",
     "output_type": "stream",
     "text": [
      "[NeMo I 2023-10-04 22:17:14 punctuation_capitalization_dataset:1192] Features restored from ../data/cached.__text_dev.txt__labels_dev.txt__.BertTokenizer.max_seq_length512.vocab30522.num_samples10000.punctuation_capitalization.pkl\n"
     ]
    },
    {
     "name": "stderr",
     "output_type": "stream",
     "text": [
      "Batch mark up: 100%|██████████| 2000/2000 [00:00<00:00, 1113581.31query/s]\n",
      "Batch building: 100%|██████████| 28/28 [00:00<00:00, 806.33batch/s]\n",
      "LOCAL_RANK: 0 - CUDA_VISIBLE_DEVICES: [0]\n"
     ]
    },
    {
     "name": "stdout",
     "output_type": "stream",
     "text": [
      "[NeMo I 2023-10-04 22:17:16 modelPT:721] Optimizer config = Adam (\n",
      "    Parameter Group 0\n",
      "        amsgrad: False\n",
      "        betas: (0.9, 0.999)\n",
      "        capturable: False\n",
      "        differentiable: False\n",
      "        eps: 1e-08\n",
      "        foreach: None\n",
      "        fused: None\n",
      "        lr: 2e-05\n",
      "        maximize: False\n",
      "        weight_decay: 0.0\n",
      "    )\n",
      "[NeMo I 2023-10-04 22:17:16 lr_scheduler:910] Scheduler \"<nemo.core.optim.lr_scheduler.WarmupAnnealing object at 0x7fb7dfbef310>\" \n",
      "    will be used during training (effective maximum steps = 115) - \n",
      "    Parameters : \n",
      "    (warmup_steps: null\n",
      "    warmup_ratio: 0.1\n",
      "    last_epoch: -1\n",
      "    max_steps: 115\n",
      "    )\n"
     ]
    },
    {
     "name": "stderr",
     "output_type": "stream",
     "text": [
      "\n",
      "  | Name             | Type             | Params\n",
      "------------------------------------------------------\n",
      "0 | metrics          | ModuleDict       | 0     \n",
      "1 | bert_model       | BertEncoder      | 109 M \n",
      "2 | punct_classifier | TokenClassifier  | 3.1 K \n",
      "3 | capit_classifier | TokenClassifier  | 1.5 K \n",
      "4 | loss             | CrossEntropyLoss | 0     \n",
      "5 | agg_loss         | AggregatorLoss   | 0     \n",
      "------------------------------------------------------\n",
      "109 M     Trainable params\n",
      "0         Non-trainable params\n",
      "109 M     Total params\n",
      "218.974   Total estimated model params size (MB)\n"
     ]
    },
    {
     "name": "stdout",
     "output_type": "stream",
     "text": [
      "[NeMo I 2023-10-04 22:17:17 punctuation_capitalization_model:333] Punctuation report: \n",
      "    label                                                precision    recall       f1           support   \n",
      "    O (label_id: 0)                                         91.73      12.53      22.04        974\n",
      "    , (label_id: 1)                                          3.21      61.11       6.09         18\n",
      "    . (label_id: 2)                                         10.82      52.14      17.91        117\n",
      "    ? (label_id: 3)                                          6.17      41.67      10.75         12\n",
      "    -------------------\n",
      "    micro avg                                               17.75      17.75      17.75       1121\n",
      "    macro avg                                               27.98      41.86      14.20       1121\n",
      "    weighted avg                                            80.95      17.75      21.23       1121\n",
      "    \n",
      "[NeMo I 2023-10-04 22:17:17 punctuation_capitalization_model:334] Capitalization report: \n",
      "    label                                                precision    recall       f1           support   \n",
      "    O (label_id: 0)                                         97.28      44.46      61.02        965\n",
      "    U (label_id: 1)                                         21.18      92.31      34.45        156\n",
      "    -------------------\n",
      "    micro avg                                               51.12      51.12      51.12       1121\n",
      "    macro avg                                               59.23      68.38      47.74       1121\n",
      "    weighted avg                                            86.69      51.12      57.33       1121\n",
      "    \n"
     ]
    },
    {
     "name": "stderr",
     "output_type": "stream",
     "text": [
      "[NeMo W 2023-10-04 22:17:17 nemo_logging:349] /usr/local/lib/python3.10/dist-packages/lightning_fabric/utilities/data.py:63: UserWarning: Your `IterableDataset` has `__len__` defined. In combination with multi-process data loading (when num_workers > 1), `__len__` could be inaccurate if each worker is not configured independently to avoid having duplicate data.\n",
      "      rank_zero_warn(\n",
      "    \n"
     ]
    },
    {
     "data": {
      "application/vnd.jupyter.widget-view+json": {
       "model_id": "ecae511de39448db84012a3ca52e443f",
       "version_major": 2,
       "version_minor": 0
      },
      "text/plain": [
       "Training: 0it [00:00, ?it/s]"
      ]
     },
     "metadata": {},
     "output_type": "display_data"
    },
    {
     "name": "stdout",
     "output_type": "stream",
     "text": [
      "[NeMo I 2023-10-04 22:17:17 preemption:56] Preemption requires torch distributed to be initialized, disabling preemption\n"
     ]
    },
    {
     "name": "stderr",
     "output_type": "stream",
     "text": [
      "[NeMo W 2023-10-04 22:17:17 nemo_logging:349] /usr/local/lib/python3.10/dist-packages/torch/optim/lr_scheduler.py:139: UserWarning: Detected call of `lr_scheduler.step()` before `optimizer.step()`. In PyTorch 1.1.0 and later, you should call them in the opposite order: `optimizer.step()` before `lr_scheduler.step()`.  Failure to do this will result in PyTorch skipping the first value of the learning rate schedule. See more details at https://pytorch.org/docs/stable/optim.html#how-to-adjust-learning-rate\n",
      "      warnings.warn(\"Detected call of `lr_scheduler.step()` before `optimizer.step()`. \"\n",
      "    \n"
     ]
    },
    {
     "data": {
      "application/vnd.jupyter.widget-view+json": {
       "model_id": "637eda1a422945caaa9b6c9e43293230",
       "version_major": 2,
       "version_minor": 0
      },
      "text/plain": [
       "Validation: 0it [00:00, ?it/s]"
      ]
     },
     "metadata": {},
     "output_type": "display_data"
    },
    {
     "name": "stdout",
     "output_type": "stream",
     "text": [
      "[NeMo I 2023-10-04 22:17:24 punctuation_capitalization_model:333] Punctuation report: \n",
      "    label                                                precision    recall       f1           support   \n",
      "    O (label_id: 0)                                         97.10     100.00      98.53      13315\n",
      "    , (label_id: 1)                                          0.00       0.00       0.00        311\n",
      "    . (label_id: 2)                                         80.89      95.32      87.51       1647\n",
      "    ? (label_id: 3)                                          0.00       0.00       0.00        380\n",
      "    -------------------\n",
      "    micro avg                                               95.09      95.09      95.09      15653\n",
      "    macro avg                                               44.50      48.83      46.51      15653\n",
      "    weighted avg                                            91.11      95.09      93.02      15653\n",
      "    \n",
      "[NeMo I 2023-10-04 22:17:24 punctuation_capitalization_model:334] Capitalization report: \n",
      "    label                                                precision    recall       f1           support   \n",
      "    O (label_id: 0)                                         98.60      99.82      99.21      13268\n",
      "    U (label_id: 1)                                         98.92      92.12      95.40       2385\n",
      "    -------------------\n",
      "    micro avg                                               98.65      98.65      98.65      15653\n",
      "    macro avg                                               98.76      95.97      97.30      15653\n",
      "    weighted avg                                            98.65      98.65      98.63      15653\n",
      "    \n"
     ]
    },
    {
     "name": "stderr",
     "output_type": "stream",
     "text": [
      "Epoch 0, global step 115: 'val_loss' reached 0.18812 (best 0.18812), saving model to '/project/code/tarred_experiment/checkpoints/Punctuation_and_Capitalization--val_loss=0.1881-epoch=0.ckpt' as top 3\n",
      "`Trainer.fit` stopped: `max_epochs=1` reached.\n"
     ]
    }
   ],
   "source": [
    "trainer = pl.Trainer(**config.trainer)\n",
    "exp_dir = exp_manager(trainer, config.get(\"exp_manager\", None))\n",
    "model = nemo_nlp.models.PunctuationCapitalizationModel(cfg=config.model, trainer=trainer)\n",
    "trainer.fit(model)"
   ]
  },
  {
   "cell_type": "markdown",
   "metadata": {
    "colab_type": "text",
    "id": "VPdzJVAgSFaJ"
   },
   "source": [
    "# Inference using a pretrained model\n",
    "\n",
    "To see how the model performs, let’s run inference on a few examples."
   ]
  },
  {
   "cell_type": "code",
   "execution_count": 29,
   "metadata": {
    "colab": {},
    "colab_type": "code",
    "id": "DQhsamclRtxJ"
   },
   "outputs": [
    {
     "name": "stdout",
     "output_type": "stream",
     "text": [
      "Available_models: ['punctuation_en_bert', 'punctuation_en_distilbert']\n",
      "\n",
      "[NeMo I 2023-10-04 22:17:34 cloud:68] Downloading from: https://api.ngc.nvidia.com/v2/models/nvidia/nemo/punctuation_en_distilbert/versions/1.0.0rc1/files/punctuation_en_distilbert.nemo to /root/.cache/torch/NeMo/NeMo_1.20.0/punctuation_en_distilbert/6bdea9786c4395fbbe02e4143d2e1cee/punctuation_en_distilbert.nemo\n",
      "[NeMo I 2023-10-04 22:17:49 common:913] Instantiating model from pre-trained checkpoint\n",
      "[NeMo I 2023-10-04 22:17:51 tokenizer_utils:130] Getting HuggingFace AutoTokenizer with pretrained_model_name: distilbert-base-uncased, vocab_file: /tmp/tmpcl645kyt/tokenizer.vocab_file, merges_files: None, special_tokens_dict: {}, and use_fast: False\n"
     ]
    },
    {
     "data": {
      "application/vnd.jupyter.widget-view+json": {
       "model_id": "fa02aae95c874083a8911f6ef9938f99",
       "version_major": 2,
       "version_minor": 0
      },
      "text/plain": [
       "Downloading (…)okenizer_config.json:   0%|          | 0.00/28.0 [00:00<?, ?B/s]"
      ]
     },
     "metadata": {},
     "output_type": "display_data"
    },
    {
     "data": {
      "application/vnd.jupyter.widget-view+json": {
       "model_id": "2471de35a7f54e919c68874a020b2774",
       "version_major": 2,
       "version_minor": 0
      },
      "text/plain": [
       "Downloading (…)lve/main/config.json:   0%|          | 0.00/483 [00:00<?, ?B/s]"
      ]
     },
     "metadata": {},
     "output_type": "display_data"
    },
    {
     "data": {
      "application/vnd.jupyter.widget-view+json": {
       "model_id": "5dd5c353055546c29e9124267ae9b9fa",
       "version_major": 2,
       "version_minor": 0
      },
      "text/plain": [
       "Downloading (…)solve/main/vocab.txt:   0%|          | 0.00/232k [00:00<?, ?B/s]"
      ]
     },
     "metadata": {},
     "output_type": "display_data"
    },
    {
     "name": "stderr",
     "output_type": "stream",
     "text": [
      "Using eos_token, but it is not set yet.\n",
      "Using bos_token, but it is not set yet.\n",
      "[NeMo W 2023-10-04 22:17:52 modelPT:244] You tried to register an artifact under config key=tokenizer.vocab_file but an artifact for it has already been registered.\n",
      "[NeMo W 2023-10-04 22:17:52 modelPT:161] If you intend to do training or fine-tuning, please call the ModelPT.setup_training_data() method and provide a valid configuration file to setup the train data loader.\n",
      "    Train config : \n",
      "    use_audio: false\n",
      "    audio_file: null\n",
      "    sample_rate: 16000\n",
      "    use_bucketing: true\n",
      "    batch_size: 32\n",
      "    preload_audios: true\n",
      "    use_tarred_dataset: false\n",
      "    label_info_save_dir: null\n",
      "    text_file: text_train.txt\n",
      "    labels_file: labels_train.txt\n",
      "    tokens_in_batch: null\n",
      "    max_seq_length: 128\n",
      "    num_samples: -1\n",
      "    use_cache: true\n",
      "    cache_dir: null\n",
      "    get_label_frequences: false\n",
      "    verbose: true\n",
      "    n_jobs: 0\n",
      "    tar_metadata_file: null\n",
      "    tar_shuffle_n: 1\n",
      "    shard_strategy: scatter\n",
      "    shuffle: true\n",
      "    drop_last: false\n",
      "    pin_memory: true\n",
      "    num_workers: 8\n",
      "    persistent_workers: true\n",
      "    ds_item: punct_dataset_complete\n",
      "    \n",
      "[NeMo W 2023-10-04 22:17:52 modelPT:168] If you intend to do validation, please call the ModelPT.setup_validation_data() or ModelPT.setup_multiple_validation_data() method and provide a valid configuration file to setup the validation data loader(s). \n",
      "    Validation config : \n",
      "    use_audio: false\n",
      "    audio_file: null\n",
      "    sample_rate: 16000\n",
      "    use_bucketing: true\n",
      "    batch_size: 32\n",
      "    preload_audios: true\n",
      "    use_tarred_dataset: false\n",
      "    label_info_save_dir: null\n",
      "    text_file: text_dev.txt\n",
      "    labels_file: labels_dev.txt\n",
      "    tokens_in_batch: null\n",
      "    max_seq_length: 128\n",
      "    num_samples: -1\n",
      "    use_cache: true\n",
      "    cache_dir: null\n",
      "    get_label_frequences: false\n",
      "    verbose: true\n",
      "    n_jobs: 0\n",
      "    tar_metadata_file: null\n",
      "    tar_shuffle_n: 1\n",
      "    shard_strategy: scatter\n",
      "    shuffle: true\n",
      "    drop_last: false\n",
      "    pin_memory: true\n",
      "    num_workers: 8\n",
      "    persistent_workers: true\n",
      "    ds_item: punct_dataset_complete\n",
      "    \n",
      "[NeMo W 2023-10-04 22:17:52 modelPT:174] Please call the ModelPT.setup_test_data() or ModelPT.setup_multiple_test_data() method and provide a valid configuration file to setup the test data loader(s).\n",
      "    Test config : \n",
      "    use_audio: false\n",
      "    audio_file: null\n",
      "    sample_rate: 16000\n",
      "    use_bucketing: true\n",
      "    batch_size: 32\n",
      "    preload_audios: true\n",
      "    use_tarred_dataset: false\n",
      "    label_info_save_dir: null\n",
      "    text_file: text_dev.txt\n",
      "    labels_file: labels_dev.txt\n",
      "    tokens_in_batch: null\n",
      "    max_seq_length: 128\n",
      "    num_samples: -1\n",
      "    use_cache: true\n",
      "    cache_dir: null\n",
      "    get_label_frequences: false\n",
      "    verbose: true\n",
      "    n_jobs: 0\n",
      "    tar_metadata_file: null\n",
      "    tar_shuffle_n: 1\n",
      "    shard_strategy: scatter\n",
      "    shuffle: true\n",
      "    drop_last: false\n",
      "    pin_memory: true\n",
      "    num_workers: 8\n",
      "    persistent_workers: true\n",
      "    ds_item: punct_dataset_complete\n",
      "    \n"
     ]
    },
    {
     "data": {
      "application/vnd.jupyter.widget-view+json": {
       "model_id": "f3d557f6f366468dbc45fa2b93693929",
       "version_major": 2,
       "version_minor": 0
      },
      "text/plain": [
       "Downloading model.safetensors:   0%|          | 0.00/268M [00:00<?, ?B/s]"
      ]
     },
     "metadata": {},
     "output_type": "display_data"
    },
    {
     "name": "stderr",
     "output_type": "stream",
     "text": [
      "[NeMo W 2023-10-04 22:18:00 punctuation_capitalization_model:705] The artifact `class_labels.punct_labels_file` was not found in checkpoint. Will rely on `punct_label_ids` parameter\n",
      "[NeMo W 2023-10-04 22:18:00 punctuation_capitalization_model:727] The artifact `class_labels.capit_labels_file` was not found in checkpoint. Will rely on `capit_label_ids` parameter\n"
     ]
    },
    {
     "name": "stdout",
     "output_type": "stream",
     "text": [
      "[NeMo I 2023-10-04 22:18:00 save_restore_connector:249] Model PunctuationCapitalizationModel was successfully restored from /root/.cache/torch/NeMo/NeMo_1.20.0/punctuation_en_distilbert/6bdea9786c4395fbbe02e4143d2e1cee/punctuation_en_distilbert.nemo.\n",
      "[NeMo I 2023-10-04 22:18:00 punctuation_capitalization_model:1153] Using batch size 4 for inference\n",
      "[NeMo I 2023-10-04 22:18:00 punctuation_capitalization_infer_dataset:127] Max length: 19\n",
      "[NeMo I 2023-10-04 22:18:00 data_preprocessing:404] Some stats of the lengths of the sequences:\n",
      "[NeMo I 2023-10-04 22:18:00 data_preprocessing:406] Min: 3 |                  Max: 17 |                  Mean: 8.0 |                  Median: 6.0\n",
      "[NeMo I 2023-10-04 22:18:00 data_preprocessing:412] 75 percentile: 9.50\n",
      "[NeMo I 2023-10-04 22:18:00 data_preprocessing:413] 99 percentile: 16.70\n"
     ]
    },
    {
     "name": "stderr",
     "output_type": "stream",
     "text": [
      "100%|██████████| 1/1 [00:00<00:00, 35.57batch/s]"
     ]
    },
    {
     "name": "stdout",
     "output_type": "stream",
     "text": [
      "\n",
      "Query   : we bought four shirts and one mug from the nvidia gear store in santa clara\n",
      "Combined: We bought four shirts and one mug from the Nvidia gear store in Santa Clara.\n",
      "\n",
      "Query   : what can i do for you today\n",
      "Combined: What can I do for you today?\n",
      "\n",
      "Query   : how are you\n",
      "Combined: How are you?\n",
      "\n",
      "Query   : how is the weather in\n",
      "Combined: How is the weather in?\n",
      "\n"
     ]
    },
    {
     "name": "stderr",
     "output_type": "stream",
     "text": [
      "\n"
     ]
    }
   ],
   "source": [
    "print(f\"Available_models: {nemo_nlp.models.PunctuationCapitalizationModel.get_available_model_names()}\\n\")\n",
    "\n",
    "pretrained_model = nemo_nlp.models.PunctuationCapitalizationModel.from_pretrained(\"punctuation_en_distilbert\")\n",
    "# define the list of queiries for inference\n",
    "queries = [\n",
    "        'we bought four shirts and one mug from the nvidia gear store in santa clara',\n",
    "        'what can i do for you today',\n",
    "        'how are you',\n",
    "        'how is the weather in',\n",
    "    ]\n",
    "inference_results = pretrained_model.add_punctuation_capitalization(queries)\n",
    "print()\n",
    "\n",
    "for query, result in zip(queries, inference_results):\n",
    "    print(f'Query   : {query}')\n",
    "    print(f'Combined: {result.strip()}\\n')"
   ]
  },
  {
   "cell_type": "markdown",
   "metadata": {},
   "source": [
    "Inference for large amounts of text can be performed by a script [examples/nlp/token_classification/punctuate_capitalize_infer.py](https://github.com/NVIDIA/NeMo/blob/stable/examples/nlp/token_classification/punctuate_capitalize_infer.py)\n",
    "\n",
    "```\n",
    "python punctuate_capitalize_infer.py \\\n",
    "    --input_manifest <PATH/TO/INPUT/MANIFEST> \\\n",
    "    --output_manifest <PATH/TO/OUTPUT/MANIFEST> \\\n",
    "    --pretrained_name punctuation_en_bert \\\n",
    "    --max_seq_length 64 \\\n",
    "    --margin 16 \\\n",
    "    --step 8\n",
    "```\n",
    "\n",
    "`<PATH/TO/INPUT/MANIFEST>` is a path to NeMo [ASR manifest](https://docs.nvidia.com/deeplearning/nemo/user-guide/docs/en/stable/asr/datasets.html) which contains text in which you need to restore punctuation and capitalization. If manifest contains `'pred_text'` key, then `'pred_text'` elements will be processed. Otherwise, punctuation and capitalization will be restored in `'text'` elements.\n",
    "\n",
    "`<PATH/TO/OUTPUT/MANIFEST>` is a path to NeMo ASR manifest into which result will be saved. The text with restored\n",
    "punctuation and capitalization is saved into `'pred_text'` elements if `'pred_text'` key is present in\n",
    "input manifest. Otherwise result will be saved into `'text'` elements.\n",
    "\n",
    "Alternatively you can pass text for restoring punctuation and capitalization as plain text. See help for parameters `--input_text` and `--output_text` of the script\n",
    "[punctuate_capitalize_infer.py](https://github.com/NVIDIA/NeMo/blob/stable/examples/nlp/token_classification/punctuate_capitalize_infer.py).\n",
    "\n",
    "The script `examples/nlp/token_classification/punctuate_capitalize_infer.py` can restore punctuation and capitalization in a text of arbitrary length. Long sequences are split into segments\n",
    "`--max_seq_length - 2` tokens each. Each segment starts and ends with `[CLS]` and `[SEP]`\n",
    "tokens correspondingly. Every segment is offset to the previous one by `--step` tokens. For example, if\n",
    "every character is a token, `--max_seq_length=5`, `--step=2`, then text `\"hello\"` will be split into\n",
    "segments `[['[CLS]', 'h', 'e', 'l', '[SEP]'], ['[CLS]', 'l', 'l', 'o', '[SEP]']]`.\n",
    "\n",
    "If segments overlap, then predicted probabilities for a token present in several segments are multiplied before selecting the best candidate.\n",
    "\n",
    "Splitting leads to pour performance of a model near edges of segments. Use parameter `--margin` to discard `--margin`\n",
    "probabilities predicted for `--margin` tokens near segment edges. For example, if every character is a token, `--max_seq_length=5`, `--step=1`, `--margin=1`, then text `\"hello\"` will be split into segments `[['[CLS]', 'h', 'e', 'l', '[SEP]'], ['[CLS]', 'e', 'l', 'l', '[SEP]'], ['[CLS]', 'l', 'l', 'o', '[SEP]']]`. Before calculating actual predictions, probabilities for tokens marked by asterisk are removed: `[['[CLS]', 'h', 'e', 'l'*, '[SEP]'*], ['[CLS]'*, 'e'*, 'l', 'l'*, '[SEP]'*], ['[CLS]'*, 'l'*, 'l', 'o', '[SEP]']]`.\n",
    "\n",
    "You may use parameters `max_seq_length`, `step`, and `margin` in `add_punctuation_capitalization` method.\n",
    "\n",
    "The text in the following example is from IWSLT 2019 test dataset."
   ]
  },
  {
   "cell_type": "code",
   "execution_count": 30,
   "metadata": {},
   "outputs": [
    {
     "name": "stdout",
     "output_type": "stream",
     "text": [
      "[NeMo I 2023-10-04 22:18:00 punctuation_capitalization_infer_dataset:127] Max length: 128\n",
      "[NeMo I 2023-10-04 22:18:00 data_preprocessing:404] Some stats of the lengths of the sequences:\n",
      "[NeMo I 2023-10-04 22:18:00 data_preprocessing:406] Min: 1615 |                  Max: 1615 |                  Mean: 1615.0 |                  Median: 1615.0\n",
      "[NeMo I 2023-10-04 22:18:00 data_preprocessing:412] 75 percentile: 1615.00\n",
      "[NeMo I 2023-10-04 22:18:00 data_preprocessing:413] 99 percentile: 1615.00\n"
     ]
    },
    {
     "name": "stderr",
     "output_type": "stream",
     "text": [
      "100%|██████████| 6/6 [00:00<00:00, 39.96batch/s]\n"
     ]
    },
    {
     "name": "stdout",
     "output_type": "stream",
     "text": [
      "Each of these songs represents a scene a movement. In some cases a sonic revolution that completely altered the course of popular music. They're all also calling cards almost for those cities. songs totally linked with their city's identity and might be why you probably consider them to be music cities. Now The magical mythical thing. The thing we kind of all love about stories like these is that those cities weren't doing anything in particular to make those moments happen. There's no formula for capturing lightning in a bottle. A formula didn't give us grunge music or introduce tupock to Dr. Dray. and there's definitely no blueprint for how to open your record business in a South Memphis neighborhood that turns out is home to Booker T Jones, William Bell and Albert King, so this is just something that happens and right when the stars perfectly align great music just happens, and in the meantime New York and Nashville can churn out the hits that come through our radios define our generations and soundtrack our weddings and our funerals, and everything in between, I don't know about you, but the very idea of that is just deadly boring to me. There are musicians all around you making powerful important music, and thanks to the Internet and it's limitless possibilities for creators to create music and fans to discover that music. those zyite guy songs don't have to be handed down to us from some conference room full of songwriters in a corporate high rise, but also and more importantly we can't decide that it's just something that happens because music is about so much more than hits those big iconic moments that change everything. It's more than just entertainment. for so many of us music is truly a way to navigate life. a means of self expression sure, but it also helps us find ourrselfel worse and figure out who we are. It connects us with other people. as almost nothing else can across language barriers across social and cultural and economic divides. Music makes us smarter and healthier and happier Music is necessary. What if you lived in a city that believed that that said we're not waiting for that hit song to define us. We're a music city, Because music is necessary by seeing music as necessary. A city can build two things, 1st an ecosystem to support the development of professional musicians and music business, and 2nd a receptive and engaged audience to sustain them, and those are the two critical elements of a music city, a city whose leaders recognize the importance of music for our development as individuals, our connection as a community and our viability as a vibrant place to live, See smart cities. Music cities know that thriving night lifef a creative class culture is what attracts young talented people to cities. It's what brings that lightning, and no, we can't predict the next egg that will hatch, but we can create a city that acts like an incubator to do that. 1st. we got to know what we've got that means identifying and quantifying our assets. We need to know them backward and forward from who and what and where they are to what their impact is on the economy. Let's count our recording studios and our record labels, our historic landmarks and our hardcore punk clubs, We should count monthly free jazz nights and weekly folk jams music schools, artist development instrument shops every lay than every Luther Music museums open once a open year round, and music festivals open just one weekend year now, Ideally through this process, we'll create an actual asset map, dropping a pin for each one allowing us to see exactly what we've got and where organic momentum is already happening because it's not enough to paint in broad strokes here when it comes to specific support for music locally, and a broad understanding of a music brand nationally. You've got to have the receipts next. We'll need to identify our challenges. Now it's important to knowe that for the most part this won't be just the opposite of step one. We won't gain a whole lot by simply thinking about what's missing from our map. Instead we need to approach this more holistically. There are lots of music venues on our map awesome, But are they struggling? Do we have a venue ladder which just means can an artist starting out at a coffee house Open, Mike, see a clear path for how they'll grow from that 25 seat room to a hundred seat room, and so on, or are we expecting them to go from a coffee house to a colossum. Maybe our challenges lie in city infrastructure, public transportation, Affordable housing, maybe like in London, where the number of music venues went from 400 in 2010 to 100 in 2015. We need to think about protections against gentrification. The Mayor of London, in December of last year, actually added something called the Agent of change principle to the city's comprehensive plan. The name says it all. if a real estate developer wants to build condos next to an existing music venue. The developer is the agent of change. They have to take the necessary steps for noise mitigation next, and this is a very big one We need leadership, and we need a strategy. Now we know there's a lot of magic in this mix. a lot of right people right place right time, and that will never stop being an important element of the way music is made the way. some of the best most enduring music is made, but there cannot be a leadership vacuum in 2018. Surriving music cities don't often happen and don't have to happen accidentally. We need elected officials who recognize the power of music and elevate the voices of creatives and they're ready to put a strategy in place in music cities from Berlin to Paris to Bogata music Advisory councils ensure that musicians have a seat at the table. They're volunteer councils, and they work directly with a designated advocate inside of city hall or even the Chamber of commerce. The strongest strategies will build music community supports like this one inward, while also exporting music outward. They go hand in hand When we look inward. We create that place that musicians want to live, and when we look outward, we build opportunities for them to advance their career, while also driving attention back to our city and leveraging music as a talent attraction tool, and here's something else that will help with that. we've got to figure out who we are now When I say Austin, You probably think live music capital, And why, because in 1991, leadership in Austin saw something percolating with an existing asset and they chose to own it by recognizing that momentum naming it and claiming it, they inevitably caused more live music venues to open existing spaces to add live music to their repertoire and they created a swell of civic buy in around the idea, which meant that it wasn't just a slogan in some tourism pamphlet was something that locals really started to believe and take pride in now generally speaking, what Austin created is just an assets based narrative, and when we think back to step one, we know that every city will not tick every box. Many cities won't have recording studios like Memphis or a songwriter and publishing scene like Nashville, and that's not a deal breaker. We simply have to find the momentum happening in our city. What are our unique assets in comparison to no other place, so if all of that sounds like something you'd like to happen where you live here are three things you can do to move the needle. 1st, you can use your feet your ears and your dollars show up. Be that receptive and engaged audience that is so necessary for a music city to thrive, Pay a cover charge, buy a record, discover new music, and please take your friends. Two, you can use your voice, buy in to the assets based narrative talk about and celebrate what your city has and three, you can use your vote, seek out leadership that doesn't just pay lip service to your city's music, but recognizes its power and is prepared to put a strategy in place to elevate it grow it and build collaboration. No, there really is no telling what city could be defined by a certain scene or a certain song in the next decade, but as much as we absolutely cannot predict that what we absolutely can predict is what happens when we treat music as necessary, and we work to build a music city, and that is a place where I want to live, thank you.\n"
     ]
    }
   ],
   "source": [
    "inference_results = pretrained_model.add_punctuation_capitalization(\n",
    "    [\n",
    "        \"each of these songs represents a scene a movement in some cases a sonic revolution that completely altered the \"\n",
    "        \"course of popular music they're all also calling cards almost for those cities songs totally linked with their \"\n",
    "        \"city's identity and might be why you probably consider them to be music cities now the magical mythical thing \"\n",
    "        \"the thing we kind of all love about stories like these is that those cities weren't doing anything in particular \"\n",
    "        \"to make those moments happen there's no formula for capturing lightning in a bottle a formula didn't give us \"\n",
    "        \"grunge music or introduce tupock to dr dray and there's definitely no blueprint for how to open your record \"\n",
    "        \"business in a south memphis neighborhood that turns out is home to booker t jones william bell and albert king \"\n",
    "        \"so this is just something that happens and right when the stars perfectly align great music just happens and \"\n",
    "        \"in the meantime new york and nashville can churn out the hits that come through our radios define our \"\n",
    "        \"generations and soundtrack our weddings and our funerals and everything in between i don't know about you but \"\n",
    "        \"the very idea of that is just deadly boring to me there are musicians all around you making powerful important \"\n",
    "        \"music and thanks to the internet and it's limitless possibilities for creators to create music and fans to \"\n",
    "        \"discover that music those zyite guy songs don't have to be handed down to us from some conference room full of \"\n",
    "        \"songwriters in a corporate high rise but also and more importantly we can't decide that it's just something that \"\n",
    "        \"happens because music is about so much more than hits those big iconic moments that change everything it's more \"\n",
    "        \"than just entertainment for so many of us music is truly a way to navigate life a means of self expression sure \"\n",
    "        \"but it also helps us find ourrselfel worse and figure out who we are it connects us with other people as almost \"\n",
    "        \"nothing else can across language barriers across social and cultural and economic divides music makes us smarter \"\n",
    "        \"and healthier and happier music is necessary what if you lived in a city that believed that that said we're not \"\n",
    "        \"waiting for that hit song to define us we're a music city because music is necessary by seeing music as \"\n",
    "        \"necessary a city can build two things 1st an ecosystem to support the development of professional musicians \"\n",
    "        \"and music business and 2nd a receptive and engaged audience to sustain them and those are the two critical \"\n",
    "        \"elements of a music city a city whose leaders recognize the importance of music for our development as \"\n",
    "        \"individuals our connection as a community and our viability as a vibrant place to live see smart cities music \"\n",
    "        \"cities know that thriving night lifef a creative class culture is what attracts young talented people to cities \"\n",
    "        \"it's what brings that lightning and no we can't predict the next egg that will hatch but we can create a city \"\n",
    "        \"that acts like an incubator to do that 1st we got to know what we've got that means identifying and quantifying \"\n",
    "        \"our assets we need to know them backward and forward from who and what and where they are to what their impact \"\n",
    "        \"is on the economy let's count our recording studios and our record labels our historic landmarks and our \"\n",
    "        \"hardcore punk clubs we should count monthly free jazz nights and weekly folk jams music schools artist \"\n",
    "        \"development instrument shops every lay than every luther music museums open once a open year round and music \"\n",
    "        \"festivals open just one weekend year now ideally through this process we'll create an actual asset map \"\n",
    "        \"dropping a pin for each one allowing us to see exactly what we've got and where organic momentum is already \"\n",
    "        \"happening because it's not enough to paint in broad strokes here when it comes to specific support for music \"\n",
    "        \"locally and a broad understanding of a music brand nationally you've got to have the receipts next we'll need \"\n",
    "        \"to identify our challenges now it's important to knowe that for the most part this won't be just the opposite \"\n",
    "        \"of step one we won't gain a whole lot by simply thinking about what's missing from our map instead we need to \"\n",
    "        \"approach this more holistically there are lots of music venues on our map awesome but are they struggling do \"\n",
    "        \"we have a venue ladder which just means can an artist starting out at a coffee house open mike see a clear path \"\n",
    "        \"for how they'll grow from that 25 seat room to a hundred seat room and so on or are we expecting them to go from \"\n",
    "        \"a coffee house to a colossum maybe our challenges lie in city infrastructure public transportation affordable \"\n",
    "        \"housing maybe like in london where the number of music venues went from 400 in 2010 to 100 in 2015 we need to \"\n",
    "        \"think about protections against gentrification the mayor of london in december of last year actually added \"\n",
    "        \"something called the agent of change principle to the city's comprehensive plan the name says it all if a real \"\n",
    "        \"estate developer wants to build condos next to an existing music venue the developer is the agent of change they \"\n",
    "        \"have to take the necessary steps for noise mitigation next and this is a very big one we need leadership and we \"\n",
    "        \"need a strategy now we know there's a lot of magic in this mix a lot of right people right place right time and \"\n",
    "        \"that will never stop being an important element of the way music is made the way some of the best most enduring \"\n",
    "        \"music is made but there cannot be a leadership vacuum in 2018 surriving music cities don't often happen and \"\n",
    "        \"don't have to happen accidentally we need elected officials who recognize the power of music and elevate the \"\n",
    "        \"voices of creatives and they're ready to put a strategy in place in music cities from berlin to paris to bogata \"\n",
    "        \"music advisory councils ensure that musicians have a seat at the table they're volunteer councils and they work \"\n",
    "        \"directly with a designated advocate inside of city hall or even the chamber of commerce the strongest strategies \"\n",
    "        \"will build music community supports like this one inward while also exporting music outward they go hand in hand \"\n",
    "        \"when we look inward we create that place that musicians want to live and when we look outward we build \"\n",
    "        \"opportunities for them to advance their career while also driving attention back to our city and leveraging music \"\n",
    "        \"as a talent attraction tool and here's something else that will help with that we've got to figure out who we are \"\n",
    "        \"now when i say austin you probably think live music capital and why because in 1991 leadership in austin saw \"\n",
    "        \"something percolating with an existing asset and they chose to own it by recognizing that momentum naming it and \"\n",
    "        \"claiming it they inevitably caused more live music venues to open existing spaces to add live music to their \"\n",
    "        \"repertoire and they created a swell of civic buy in around the idea which meant that it wasn't just a slogan in \"\n",
    "        \"some tourism pamphlet was something that locals really started to believe and take pride in now generally \"\n",
    "        \"speaking what austin created is just an assets based narrative and when we think back to step one we know that \"\n",
    "        \"every city will not tick every box many cities won't have recording studios like memphis or a songwriter and \"\n",
    "        \"publishing scene like nashville and that's not a deal breaker we simply have to find the momentum happening in \"\n",
    "        \"our city what are our unique assets in comparison to no other place so if all of that sounds like something \"\n",
    "        \"you'd like to happen where you live here are three things you can do to move the needle 1st you can use your \"\n",
    "        \"feet your ears and your dollars show up be that receptive and engaged audience that is so necessary for a music \"\n",
    "        \"city to thrive pay a cover charge buy a record discover new music and please take your friends two you can use \"\n",
    "        \"your voice buy in to the assets based narrative talk about and celebrate what your city has and three you can \"\n",
    "        \"use your vote seek out leadership that doesn't just pay lip service to your city's music but recognizes its \"\n",
    "        \"power and is prepared to put a strategy in place to elevate it grow it and build collaboration no there really \"\n",
    "        \"is no telling what city could be defined by a certain scene or a certain song in the next decade but as much \"\n",
    "        \"as we absolutely cannot predict that what we absolutely can predict is what happens when we treat music as \"\n",
    "        \"necessary and we work to build a music city and that is a place where i want to live thank you\"\n",
    "    ],\n",
    "    max_seq_length=128,\n",
    "    step=8,\n",
    "    margin=16,\n",
    "    batch_size=32,\n",
    ")\n",
    "print(inference_results[0])"
   ]
  },
  {
   "cell_type": "markdown",
   "metadata": {
    "colab_type": "text",
    "id": "ref1qSonGNhP"
   },
   "source": [
    "## Training Script\n",
    "\n",
    "If you have NeMo installed locally, you can also train the model with [nlp/token_classification/punctuation_capitalization_train_evaluate.py](https://github.com/NVIDIA/NeMo/blob/main/examples/nlp/token_classification/punctuation_capitalization_train_evaluate.py).\n",
    "\n",
    "To run training script, use:\n",
    "\n",
    "`python punctuation_capitalization_train_evaluate.py model.train_ds.ds_item=PATH_TO_TRAIN_DATA_DIR`\n",
    "\n",
    "Set NUM_SAMPLES=-1 and consider including other datasets to improve the performance of the model.\n",
    "\n",
    "# Finetuning model with your data\n",
    "\n",
    "When we were training the model from scratch, the datasets were prepared for training during the model initialization. When we are using a pretrained Punctuation and Capitalization model, before training, we need to setup training and evaluation data."
   ]
  },
  {
   "cell_type": "code",
   "execution_count": 31,
   "metadata": {
    "colab": {},
    "colab_type": "code",
    "id": "4X1BahRlkaNf"
   },
   "outputs": [
    {
     "name": "stdout",
     "output_type": "stream",
     "text": [
      "[NeMo I 2023-10-04 22:18:00 cloud:58] Found existing object /root/.cache/torch/NeMo/NeMo_1.20.0/punctuation_en_distilbert/6bdea9786c4395fbbe02e4143d2e1cee/punctuation_en_distilbert.nemo.\n",
      "[NeMo I 2023-10-04 22:18:00 cloud:64] Re-using file from: /root/.cache/torch/NeMo/NeMo_1.20.0/punctuation_en_distilbert/6bdea9786c4395fbbe02e4143d2e1cee/punctuation_en_distilbert.nemo\n",
      "[NeMo I 2023-10-04 22:18:00 common:913] Instantiating model from pre-trained checkpoint\n",
      "[NeMo I 2023-10-04 22:18:02 tokenizer_utils:130] Getting HuggingFace AutoTokenizer with pretrained_model_name: distilbert-base-uncased, vocab_file: /tmp/tmpx4pons_n/tokenizer.vocab_file, merges_files: None, special_tokens_dict: {}, and use_fast: False\n"
     ]
    },
    {
     "name": "stderr",
     "output_type": "stream",
     "text": [
      "Using eos_token, but it is not set yet.\n",
      "Using bos_token, but it is not set yet.\n",
      "[NeMo W 2023-10-04 22:18:02 modelPT:244] You tried to register an artifact under config key=tokenizer.vocab_file but an artifact for it has already been registered.\n",
      "[NeMo W 2023-10-04 22:18:02 modelPT:161] If you intend to do training or fine-tuning, please call the ModelPT.setup_training_data() method and provide a valid configuration file to setup the train data loader.\n",
      "    Train config : \n",
      "    use_audio: false\n",
      "    audio_file: null\n",
      "    sample_rate: 16000\n",
      "    use_bucketing: true\n",
      "    batch_size: 32\n",
      "    preload_audios: true\n",
      "    use_tarred_dataset: false\n",
      "    label_info_save_dir: null\n",
      "    text_file: text_train.txt\n",
      "    labels_file: labels_train.txt\n",
      "    tokens_in_batch: null\n",
      "    max_seq_length: 128\n",
      "    num_samples: -1\n",
      "    use_cache: true\n",
      "    cache_dir: null\n",
      "    get_label_frequences: false\n",
      "    verbose: true\n",
      "    n_jobs: 0\n",
      "    tar_metadata_file: null\n",
      "    tar_shuffle_n: 1\n",
      "    shard_strategy: scatter\n",
      "    shuffle: true\n",
      "    drop_last: false\n",
      "    pin_memory: true\n",
      "    num_workers: 8\n",
      "    persistent_workers: true\n",
      "    ds_item: punct_dataset_complete\n",
      "    \n",
      "[NeMo W 2023-10-04 22:18:02 modelPT:168] If you intend to do validation, please call the ModelPT.setup_validation_data() or ModelPT.setup_multiple_validation_data() method and provide a valid configuration file to setup the validation data loader(s). \n",
      "    Validation config : \n",
      "    use_audio: false\n",
      "    audio_file: null\n",
      "    sample_rate: 16000\n",
      "    use_bucketing: true\n",
      "    batch_size: 32\n",
      "    preload_audios: true\n",
      "    use_tarred_dataset: false\n",
      "    label_info_save_dir: null\n",
      "    text_file: text_dev.txt\n",
      "    labels_file: labels_dev.txt\n",
      "    tokens_in_batch: null\n",
      "    max_seq_length: 128\n",
      "    num_samples: -1\n",
      "    use_cache: true\n",
      "    cache_dir: null\n",
      "    get_label_frequences: false\n",
      "    verbose: true\n",
      "    n_jobs: 0\n",
      "    tar_metadata_file: null\n",
      "    tar_shuffle_n: 1\n",
      "    shard_strategy: scatter\n",
      "    shuffle: true\n",
      "    drop_last: false\n",
      "    pin_memory: true\n",
      "    num_workers: 8\n",
      "    persistent_workers: true\n",
      "    ds_item: punct_dataset_complete\n",
      "    \n",
      "[NeMo W 2023-10-04 22:18:02 modelPT:174] Please call the ModelPT.setup_test_data() or ModelPT.setup_multiple_test_data() method and provide a valid configuration file to setup the test data loader(s).\n",
      "    Test config : \n",
      "    use_audio: false\n",
      "    audio_file: null\n",
      "    sample_rate: 16000\n",
      "    use_bucketing: true\n",
      "    batch_size: 32\n",
      "    preload_audios: true\n",
      "    use_tarred_dataset: false\n",
      "    label_info_save_dir: null\n",
      "    text_file: text_dev.txt\n",
      "    labels_file: labels_dev.txt\n",
      "    tokens_in_batch: null\n",
      "    max_seq_length: 128\n",
      "    num_samples: -1\n",
      "    use_cache: true\n",
      "    cache_dir: null\n",
      "    get_label_frequences: false\n",
      "    verbose: true\n",
      "    n_jobs: 0\n",
      "    tar_metadata_file: null\n",
      "    tar_shuffle_n: 1\n",
      "    shard_strategy: scatter\n",
      "    shuffle: true\n",
      "    drop_last: false\n",
      "    pin_memory: true\n",
      "    num_workers: 8\n",
      "    persistent_workers: true\n",
      "    ds_item: punct_dataset_complete\n",
      "    \n",
      "[NeMo W 2023-10-04 22:18:04 punctuation_capitalization_model:705] The artifact `class_labels.punct_labels_file` was not found in checkpoint. Will rely on `punct_label_ids` parameter\n",
      "[NeMo W 2023-10-04 22:18:04 punctuation_capitalization_model:727] The artifact `class_labels.capit_labels_file` was not found in checkpoint. Will rely on `capit_label_ids` parameter\n"
     ]
    },
    {
     "name": "stdout",
     "output_type": "stream",
     "text": [
      "[NeMo I 2023-10-04 22:18:04 save_restore_connector:249] Model PunctuationCapitalizationModel was successfully restored from /root/.cache/torch/NeMo/NeMo_1.20.0/punctuation_en_distilbert/6bdea9786c4395fbbe02e4143d2e1cee/punctuation_en_distilbert.nemo.\n"
     ]
    },
    {
     "name": "stderr",
     "output_type": "stream",
     "text": [
      "GPU available: True (cuda), used: True\n",
      "TPU available: False, using: 0 TPU cores\n",
      "IPU available: False, using: 0 IPUs\n",
      "HPU available: False, using: 0 HPUs\n",
      "Running in `fast_dev_run` mode: will run the requested loop using 1 batch(es). Logging and checkpointing is suppressed.\n"
     ]
    },
    {
     "name": "stdout",
     "output_type": "stream",
     "text": [
      "[NeMo I 2023-10-04 22:18:04 punctuation_capitalization_dataset:1121] Processing ../data/text_train.txt\n",
      "[NeMo I 2023-10-04 22:18:04 punctuation_capitalization_dataset:662] Start initial tokenization.\n",
      "[NeMo I 2023-10-04 22:18:04 punctuation_capitalization_dataset:668] Running tokenization with 0 jobs.\n"
     ]
    },
    {
     "name": "stderr",
     "output_type": "stream",
     "text": [
      "Tokenization:  88%|████████▊ | 7.00k/8.00k [00:03<00:00, 2.20kquery/s]"
     ]
    },
    {
     "name": "stdout",
     "output_type": "stream",
     "text": [
      "[NeMo I 2023-10-04 22:18:08 punctuation_capitalization_dataset:595] Finished processing data split number 0\n"
     ]
    },
    {
     "name": "stderr",
     "output_type": "stream",
     "text": [
      "Tokenization: 100%|██████████| 8.00k/8.00k [00:03<00:00, 2.15kquery/s]\n"
     ]
    },
    {
     "name": "stdout",
     "output_type": "stream",
     "text": [
      "[NeMo I 2023-10-04 22:18:08 punctuation_capitalization_dataset:726] Finished initial tokenization.\n",
      "[NeMo I 2023-10-04 22:18:08 data_preprocessing:404] Some stats of the lengths of the sequences:\n",
      "[NeMo I 2023-10-04 22:18:08 data_preprocessing:406] Min: 4 |                  Max: 35 |                  Mean: 10.627 |                  Median: 10.0\n",
      "[NeMo I 2023-10-04 22:18:08 data_preprocessing:412] 75 percentile: 12.00\n",
      "[NeMo I 2023-10-04 22:18:08 data_preprocessing:413] 99 percentile: 24.00\n",
      "[NeMo I 2023-10-04 22:18:08 punctuation_capitalization_dataset:728] Finished clipping and padding.\n",
      "[NeMo I 2023-10-04 22:18:08 punctuation_capitalization_dataset:730] *** Example ***\n",
      "[NeMo I 2023-10-04 22:18:08 punctuation_capitalization_dataset:731] i: 0\n",
      "[NeMo I 2023-10-04 22:18:08 punctuation_capitalization_dataset:732] subtokens: 101 2292 1005 1055 3046 2242 102\n",
      "[NeMo I 2023-10-04 22:18:08 punctuation_capitalization_dataset:733] subtokens_mask: False True False False True True False\n",
      "[NeMo I 2023-10-04 22:18:08 punctuation_capitalization_dataset:734] punct_labels: 0 0 0 0 0 2 0\n",
      "[NeMo I 2023-10-04 22:18:08 punctuation_capitalization_dataset:735] capit_labels: 0 1 1 1 0 0 0\n",
      "[NeMo I 2023-10-04 22:18:08 punctuation_capitalization_dataset:730] *** Example ***\n",
      "[NeMo I 2023-10-04 22:18:08 punctuation_capitalization_dataset:731] i: 1\n",
      "[NeMo I 2023-10-04 22:18:08 punctuation_capitalization_dataset:732] subtokens: 101 1045 2031 2000 2175 2000 3637 102\n",
      "[NeMo I 2023-10-04 22:18:08 punctuation_capitalization_dataset:733] subtokens_mask: False True True True True True True False\n",
      "[NeMo I 2023-10-04 22:18:08 punctuation_capitalization_dataset:734] punct_labels: 0 0 0 0 0 0 2 0\n",
      "[NeMo I 2023-10-04 22:18:08 punctuation_capitalization_dataset:735] capit_labels: 0 1 0 0 0 0 0 0\n",
      "[NeMo I 2023-10-04 22:18:08 punctuation_capitalization_dataset:730] *** Example ***\n",
      "[NeMo I 2023-10-04 22:18:08 punctuation_capitalization_dataset:731] i: 2\n",
      "[NeMo I 2023-10-04 22:18:08 punctuation_capitalization_dataset:732] subtokens: 101 1045 2097 2022 2067 2574 102\n",
      "[NeMo I 2023-10-04 22:18:08 punctuation_capitalization_dataset:733] subtokens_mask: False True True True True True False\n",
      "[NeMo I 2023-10-04 22:18:08 punctuation_capitalization_dataset:734] punct_labels: 0 0 0 0 0 2 0\n",
      "[NeMo I 2023-10-04 22:18:08 punctuation_capitalization_dataset:735] capit_labels: 0 1 0 0 0 0 0\n",
      "[NeMo I 2023-10-04 22:18:08 punctuation_capitalization_dataset:730] *** Example ***\n",
      "[NeMo I 2023-10-04 22:18:08 punctuation_capitalization_dataset:731] i: 3\n",
      "[NeMo I 2023-10-04 22:18:08 punctuation_capitalization_dataset:732] subtokens: 101 1045 1005 1049 2012 1037 3279 2005 2616 102\n",
      "[NeMo I 2023-10-04 22:18:08 punctuation_capitalization_dataset:733] subtokens_mask: False True False False True True True True True False\n",
      "[NeMo I 2023-10-04 22:18:08 punctuation_capitalization_dataset:734] punct_labels: 0 0 0 0 0 0 0 0 2 0\n",
      "[NeMo I 2023-10-04 22:18:08 punctuation_capitalization_dataset:735] capit_labels: 0 1 1 1 0 0 0 0 0 0\n",
      "[NeMo I 2023-10-04 22:18:08 punctuation_capitalization_dataset:730] *** Example ***\n",
      "[NeMo I 2023-10-04 22:18:08 punctuation_capitalization_dataset:731] i: 4\n",
      "[NeMo I 2023-10-04 22:18:08 punctuation_capitalization_dataset:732] subtokens: 101 2023 2003 2196 2183 2000 2203 102\n",
      "[NeMo I 2023-10-04 22:18:08 punctuation_capitalization_dataset:733] subtokens_mask: False True True True True True True False\n",
      "[NeMo I 2023-10-04 22:18:08 punctuation_capitalization_dataset:734] punct_labels: 0 0 0 0 0 0 2 0\n",
      "[NeMo I 2023-10-04 22:18:08 punctuation_capitalization_dataset:735] capit_labels: 0 1 0 0 0 0 0 0\n",
      "[NeMo I 2023-10-04 22:18:08 punctuation_capitalization_dataset:1175] Features saved to ../data/cached.__text_train.txt__labels_train.txt__.DistilBertTokenizer.max_seq_length128.vocab30522.all_samples.punctuation_capitalization.pkl\n"
     ]
    },
    {
     "name": "stderr",
     "output_type": "stream",
     "text": [
      "Batch mark up: 100%|██████████| 8000/8000 [00:00<00:00, 1124591.35query/s]\n",
      "Batch building: 100%|██████████| 114/114 [00:00<00:00, 837.67batch/s]"
     ]
    },
    {
     "name": "stdout",
     "output_type": "stream",
     "text": [
      "[NeMo I 2023-10-04 22:18:08 punctuation_capitalization_dataset:1121] Processing ../data/text_dev.txt\n",
      "[NeMo I 2023-10-04 22:18:08 punctuation_capitalization_dataset:662] Start initial tokenization.\n",
      "[NeMo I 2023-10-04 22:18:08 punctuation_capitalization_dataset:668] Running tokenization with 0 jobs.\n"
     ]
    },
    {
     "name": "stderr",
     "output_type": "stream",
     "text": [
      "\n",
      "Tokenization:  50%|█████     | 1.00k/2.00k [00:00<00:00, 1.99kquery/s]"
     ]
    },
    {
     "name": "stdout",
     "output_type": "stream",
     "text": [
      "[NeMo I 2023-10-04 22:18:09 punctuation_capitalization_dataset:595] Finished processing data split number 0\n"
     ]
    },
    {
     "name": "stderr",
     "output_type": "stream",
     "text": [
      "Tokenization: 100%|██████████| 2.00k/2.00k [00:00<00:00, 2.21kquery/s]\n"
     ]
    },
    {
     "name": "stdout",
     "output_type": "stream",
     "text": [
      "[NeMo I 2023-10-04 22:18:10 punctuation_capitalization_dataset:726] Finished initial tokenization.\n",
      "[NeMo I 2023-10-04 22:18:10 data_preprocessing:404] Some stats of the lengths of the sequences:\n",
      "[NeMo I 2023-10-04 22:18:10 data_preprocessing:406] Min: 4 |                  Max: 32 |                  Mean: 10.277 |                  Median: 10.0\n",
      "[NeMo I 2023-10-04 22:18:10 data_preprocessing:412] 75 percentile: 12.00\n",
      "[NeMo I 2023-10-04 22:18:10 data_preprocessing:413] 99 percentile: 22.00\n",
      "[NeMo I 2023-10-04 22:18:10 punctuation_capitalization_dataset:728] Finished clipping and padding.\n",
      "[NeMo I 2023-10-04 22:18:10 punctuation_capitalization_dataset:730] *** Example ***\n",
      "[NeMo I 2023-10-04 22:18:10 punctuation_capitalization_dataset:731] i: 0\n",
      "[NeMo I 2023-10-04 22:18:10 punctuation_capitalization_dataset:732] subtokens: 101 2057 2031 1996 4522 1997 2331 1998 12339 102\n",
      "[NeMo I 2023-10-04 22:18:10 punctuation_capitalization_dataset:733] subtokens_mask: False True True True True True True True True False\n",
      "[NeMo I 2023-10-04 22:18:10 punctuation_capitalization_dataset:734] punct_labels: 0 0 0 0 0 0 0 0 2 0\n",
      "[NeMo I 2023-10-04 22:18:10 punctuation_capitalization_dataset:735] capit_labels: 0 1 0 0 0 0 0 0 0 0\n",
      "[NeMo I 2023-10-04 22:18:10 punctuation_capitalization_dataset:730] *** Example ***\n",
      "[NeMo I 2023-10-04 22:18:10 punctuation_capitalization_dataset:731] i: 1\n",
      "[NeMo I 2023-10-04 22:18:10 punctuation_capitalization_dataset:732] subtokens: 101 2498 6963 2256 2126 102\n",
      "[NeMo I 2023-10-04 22:18:10 punctuation_capitalization_dataset:733] subtokens_mask: False True True True True False\n",
      "[NeMo I 2023-10-04 22:18:10 punctuation_capitalization_dataset:734] punct_labels: 0 0 0 0 2 0\n",
      "[NeMo I 2023-10-04 22:18:10 punctuation_capitalization_dataset:735] capit_labels: 0 1 0 0 0 0\n",
      "[NeMo I 2023-10-04 22:18:10 punctuation_capitalization_dataset:730] *** Example ***\n",
      "[NeMo I 2023-10-04 22:18:10 punctuation_capitalization_dataset:731] i: 2\n",
      "[NeMo I 2023-10-04 22:18:10 punctuation_capitalization_dataset:732] subtokens: 101 2057 2018 2019 24655 3820 2008 2057 2052 2490 2169 2060 102\n",
      "[NeMo I 2023-10-04 22:18:10 punctuation_capitalization_dataset:733] subtokens_mask: False True True True True True True True True True True True False\n",
      "[NeMo I 2023-10-04 22:18:10 punctuation_capitalization_dataset:734] punct_labels: 0 0 0 0 0 0 0 0 0 0 0 2 0\n",
      "[NeMo I 2023-10-04 22:18:10 punctuation_capitalization_dataset:735] capit_labels: 0 1 0 0 0 0 0 0 0 0 0 0 0\n",
      "[NeMo I 2023-10-04 22:18:10 punctuation_capitalization_dataset:730] *** Example ***\n",
      "[NeMo I 2023-10-04 22:18:10 punctuation_capitalization_dataset:731] i: 3\n",
      "[NeMo I 2023-10-04 22:18:10 punctuation_capitalization_dataset:732] subtokens: 101 2057 2018 1037 7263 4489 1997 5448 102\n",
      "[NeMo I 2023-10-04 22:18:10 punctuation_capitalization_dataset:733] subtokens_mask: False True True True True True True True False\n",
      "[NeMo I 2023-10-04 22:18:10 punctuation_capitalization_dataset:734] punct_labels: 0 0 0 0 0 0 0 2 0\n",
      "[NeMo I 2023-10-04 22:18:10 punctuation_capitalization_dataset:735] capit_labels: 0 1 0 0 0 0 0 0 0\n",
      "[NeMo I 2023-10-04 22:18:10 punctuation_capitalization_dataset:730] *** Example ***\n",
      "[NeMo I 2023-10-04 22:18:10 punctuation_capitalization_dataset:731] i: 4\n",
      "[NeMo I 2023-10-04 22:18:10 punctuation_capitalization_dataset:732] subtokens: 101 2009 2003 2025 4072 2005 2149 2000 5463 1996 3116 102\n",
      "[NeMo I 2023-10-04 22:18:10 punctuation_capitalization_dataset:733] subtokens_mask: False True True True True True True True True True True False\n",
      "[NeMo I 2023-10-04 22:18:10 punctuation_capitalization_dataset:734] punct_labels: 0 0 0 0 0 0 0 0 0 0 2 0\n",
      "[NeMo I 2023-10-04 22:18:10 punctuation_capitalization_dataset:735] capit_labels: 0 1 0 0 0 0 0 0 0 0 0 0\n",
      "[NeMo I 2023-10-04 22:18:10 punctuation_capitalization_dataset:1175] Features saved to ../data/cached.__text_dev.txt__labels_dev.txt__.DistilBertTokenizer.max_seq_length128.vocab30522.all_samples.punctuation_capitalization.pkl\n"
     ]
    },
    {
     "name": "stderr",
     "output_type": "stream",
     "text": [
      "Batch mark up: 100%|██████████| 2000/2000 [00:00<00:00, 1180995.07query/s]\n",
      "Batch building: 100%|██████████| 28/28 [00:00<00:00, 840.33batch/s]\n",
      "LOCAL_RANK: 0 - CUDA_VISIBLE_DEVICES: [0]\n"
     ]
    },
    {
     "name": "stdout",
     "output_type": "stream",
     "text": [
      "[NeMo I 2023-10-04 22:18:10 modelPT:721] Optimizer config = Adam (\n",
      "    Parameter Group 0\n",
      "        amsgrad: False\n",
      "        betas: (0.9, 0.999)\n",
      "        capturable: False\n",
      "        differentiable: False\n",
      "        eps: 1e-08\n",
      "        foreach: None\n",
      "        fused: None\n",
      "        lr: 0.0001\n",
      "        maximize: False\n",
      "        weight_decay: 0.0\n",
      "    )\n",
      "[NeMo I 2023-10-04 22:18:10 lr_scheduler:910] Scheduler \"<nemo.core.optim.lr_scheduler.WarmupAnnealing object at 0x7fb75823e440>\" \n",
      "    will be used during training (effective maximum steps = 1) - \n",
      "    Parameters : \n",
      "    (warmup_steps: null\n",
      "    warmup_ratio: 0.1\n",
      "    last_epoch: -1\n",
      "    max_steps: 1\n",
      "    )\n"
     ]
    },
    {
     "name": "stderr",
     "output_type": "stream",
     "text": [
      "\n",
      "  | Name             | Type              | Params\n",
      "-------------------------------------------------------\n",
      "0 | bert_model       | DistilBertEncoder | 66.4 M\n",
      "1 | punct_classifier | TokenClassifier   | 3.1 K \n",
      "2 | capit_classifier | TokenClassifier   | 1.5 K \n",
      "3 | loss             | CrossEntropyLoss  | 0     \n",
      "4 | agg_loss         | AggregatorLoss    | 0     \n",
      "5 | metrics          | ModuleDict        | 0     \n",
      "-------------------------------------------------------\n",
      "66.4 M    Trainable params\n",
      "0         Non-trainable params\n",
      "66.4 M    Total params\n",
      "265.470   Total estimated model params size (MB)\n",
      "[NeMo W 2023-10-04 22:18:10 nemo_logging:349] /usr/local/lib/python3.10/dist-packages/pytorch_lightning/trainer/trainer.py:1609: PossibleUserWarning: The number of training batches (1) is smaller than the logging interval Trainer(log_every_n_steps=50). Set a lower value for log_every_n_steps if you want to see logs for the training epoch.\n",
      "      rank_zero_warn(\n",
      "    \n",
      "[NeMo W 2023-10-04 22:18:10 nemo_logging:349] /usr/local/lib/python3.10/dist-packages/pytorch_lightning/trainer/connectors/data_connector.py:488: PossibleUserWarning: Your `val_dataloader`'s sampler has shuffling enabled, it is strongly recommended that you turn shuffling off for val/test/predict dataloaders.\n",
      "      rank_zero_warn(\n",
      "    \n"
     ]
    },
    {
     "data": {
      "application/vnd.jupyter.widget-view+json": {
       "model_id": "8ee2ab9545764bcbb4ac16c813ce0254",
       "version_major": 2,
       "version_minor": 0
      },
      "text/plain": [
       "Training: 0it [00:00, ?it/s]"
      ]
     },
     "metadata": {},
     "output_type": "display_data"
    },
    {
     "data": {
      "application/vnd.jupyter.widget-view+json": {
       "model_id": "650a5a36e805417a91421f866599f4c3",
       "version_major": 2,
       "version_minor": 0
      },
      "text/plain": [
       "Validation: 0it [00:00, ?it/s]"
      ]
     },
     "metadata": {},
     "output_type": "display_data"
    },
    {
     "name": "stdout",
     "output_type": "stream",
     "text": [
      "[NeMo I 2023-10-04 22:18:11 punctuation_capitalization_model:333] Punctuation report: \n",
      "    label                                                precision    recall       f1           support   \n",
      "    O (label_id: 0)                                         98.35      99.83      99.08        596\n",
      "    , (label_id: 1)                                         88.89      44.44      59.26         18\n",
      "    . (label_id: 2)                                        100.00     100.00     100.00         60\n",
      "    ? (label_id: 3)                                        100.00     100.00     100.00          4\n",
      "    -------------------\n",
      "    micro avg                                               98.38      98.38      98.38        678\n",
      "    macro avg                                               96.81      86.07      89.59        678\n",
      "    weighted avg                                            98.25      98.38      98.11        678\n",
      "    \n",
      "[NeMo I 2023-10-04 22:18:11 punctuation_capitalization_model:334] Capitalization report: \n",
      "    label                                                precision    recall       f1           support   \n",
      "    O (label_id: 0)                                         93.93     100.00      96.87        603\n",
      "    U (label_id: 1)                                        100.00      48.00      64.86         75\n",
      "    -------------------\n",
      "    micro avg                                               94.25      94.25      94.25        678\n",
      "    macro avg                                               96.96      74.00      80.87        678\n",
      "    weighted avg                                            94.60      94.25      93.33        678\n",
      "    \n",
      "[NeMo I 2023-10-04 22:18:11 punctuation_capitalization_dataset:1821] Shuffling training dataset\n"
     ]
    },
    {
     "name": "stderr",
     "output_type": "stream",
     "text": [
      "\n",
      "Batch mark up: 100%|██████████| 8000/8000 [00:00<00:00, 968298.04query/s]\n",
      "\n",
      "Batch building:   0%|          | 0/114 [00:00<?, ?batch/s]\u001b[A\n",
      "Batch building: 100%|██████████| 114/114 [00:00<00:00, 734.76batch/s][A\n",
      "`Trainer.fit` stopped: `max_steps=1` reached.\n"
     ]
    }
   ],
   "source": [
    "# let's reload our pretrained model\n",
    "pretrained_model = nemo_nlp.models.PunctuationCapitalizationModel.from_pretrained('punctuation_en_distilbert')\n",
    "\n",
    "# setup train and validation Pytorch DataLoaders\n",
    "pretrained_model.update_config_after_restoring_from_checkpoint(\n",
    "    train_ds={\n",
    "        'ds_item': DATA_DIR,\n",
    "        'text_file': 'text_train.txt',\n",
    "        'labels_file': 'labels_train.txt',\n",
    "        'tokens_in_batch': 1024,\n",
    "    },\n",
    "    validation_ds={\n",
    "        'ds_item': DATA_DIR,\n",
    "        'text_file': 'text_dev.txt',\n",
    "        'labels_file': 'labels_dev.txt',\n",
    "        'tokens_in_batch': 1024,\n",
    "    },\n",
    ")\n",
    "\n",
    "# and now we can create a PyTorch Lightning trainer and call `fit` again\n",
    "# for this tutorial we are setting fast_dev_run to True, and the trainer will run 1 training batch and 1 validation batch\n",
    "# for actual model training, disable the flag\n",
    "fast_dev_run = True\n",
    "trainer = pl.Trainer(devices=1, accelerator='gpu', fast_dev_run=fast_dev_run)\n",
    "pretrained_model.set_trainer(trainer)\n",
    "pretrained_model.setup_training_data()\n",
    "pretrained_model.setup_validation_data()\n",
    "\n",
    "trainer.fit(pretrained_model)"
   ]
  },
  {
   "cell_type": "code",
   "execution_count": null,
   "metadata": {},
   "outputs": [],
   "source": []
  }
 ],
 "metadata": {
  "accelerator": "GPU",
  "colab": {
   "collapsed_sections": [
    "daYw_Xll2ZR9"
   ],
   "name": "Punctuation_and_Capitalization.ipynb",
   "private_outputs": true,
   "provenance": []
  },
  "kernelspec": {
   "display_name": "Python 3 (ipykernel)",
   "language": "python",
   "name": "python3"
  },
  "language_info": {
   "codemirror_mode": {
    "name": "ipython",
    "version": 3
   },
   "file_extension": ".py",
   "mimetype": "text/x-python",
   "name": "python",
   "nbconvert_exporter": "python",
   "pygments_lexer": "ipython3",
   "version": "3.10.6"
  },
  "pycharm": {
   "stem_cell": {
    "cell_type": "raw",
    "metadata": {
     "collapsed": false
    },
    "source": []
   }
  }
 },
 "nbformat": 4,
 "nbformat_minor": 4
}
